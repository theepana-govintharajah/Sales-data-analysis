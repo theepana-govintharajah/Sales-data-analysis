{
  "nbformat": 4,
  "nbformat_minor": 0,
  "metadata": {
    "colab": {
      "provenance": []
    },
    "kernelspec": {
      "name": "python3",
      "display_name": "Python 3"
    },
    "language_info": {
      "name": "python"
    }
  },
  "cells": [
    {
      "cell_type": "code",
      "source": [
        "from google.colab import drive\n",
        "drive.mount('/content/drive')"
      ],
      "metadata": {
        "colab": {
          "base_uri": "https://localhost:8080/"
        },
        "id": "-soTrXVbSQF0",
        "outputId": "9abd23cf-1162-4ec4-f908-433c743f6d8b"
      },
      "execution_count": 1,
      "outputs": [
        {
          "output_type": "stream",
          "name": "stdout",
          "text": [
            "Mounted at /content/drive\n"
          ]
        }
      ]
    },
    {
      "cell_type": "code",
      "source": [
        "import pandas as pd\n",
        "import matplotlib.pyplot as plt\n",
        "from sklearn.preprocessing import MinMaxScaler, LabelEncoder\n",
        "from sklearn.cluster import KMeans\n",
        "import numpy as np\n",
        "from tabulate import tabulate\n",
        "from sklearn.decomposition import PCA\n",
        "\n",
        "from sklearn.model_selection import train_test_split, KFold, cross_val_score, cross_val_predict\n",
        "from sklearn.linear_model import LinearRegression, LogisticRegression\n",
        "from sklearn.ensemble import RandomForestRegressor, RandomForestClassifier\n",
        "from sklearn.tree import DecisionTreeClassifier\n",
        "from sklearn.naive_bayes import MultinomialNB\n",
        "from sklearn.svm import SVC\n",
        "from sklearn.metrics import mean_squared_error, r2_score, classification_report, confusion_matrix, accuracy_score, precision_score, recall_score, f1_score"
      ],
      "metadata": {
        "id": "pPAFeFLBSnPx"
      },
      "execution_count": 2,
      "outputs": []
    },
    {
      "cell_type": "code",
      "source": [
        "data=pd.read_csv(\"/content/drive/MyDrive/Colab Notebooks/Data Mining/Mini Project/supermarket_sales.csv\")\n",
        "df = data.copy()\n",
        "df.head()"
      ],
      "metadata": {
        "colab": {
          "base_uri": "https://localhost:8080/",
          "height": 206
        },
        "id": "NoWxpy3dSbzL",
        "outputId": "90dcb212-0aaf-447b-d8a3-6649b754eacd"
      },
      "execution_count": 3,
      "outputs": [
        {
          "output_type": "execute_result",
          "data": {
            "text/plain": [
              "    Invoice ID Branch       City Customer type  Gender  \\\n",
              "0  750-67-8428      A     Yangon        Member  Female   \n",
              "1  226-31-3081      C  Naypyitaw        Normal  Female   \n",
              "2  631-41-3108      A     Yangon        Normal    Male   \n",
              "3  123-19-1176      A     Yangon        Member    Male   \n",
              "4  373-73-7910      A     Yangon        Normal    Male   \n",
              "\n",
              "             Product line  Unit price  Quantity   Tax 5%     Total       Date  \\\n",
              "0       Health and beauty       74.69         7  26.1415  548.9715   1/5/2019   \n",
              "1  Electronic accessories       15.28         5   3.8200   80.2200   3/8/2019   \n",
              "2      Home and lifestyle       46.33         7  16.2155  340.5255   3/3/2019   \n",
              "3       Health and beauty       58.22         8  23.2880  489.0480  1/27/2019   \n",
              "4       Sports and travel       86.31         7  30.2085  634.3785   2/8/2019   \n",
              "\n",
              "    Time      Payment    cogs  gross margin percentage  gross income  Rating  \n",
              "0  13:08      Ewallet  522.83                 4.761905       26.1415     9.1  \n",
              "1  10:29         Cash   76.40                 4.761905        3.8200     9.6  \n",
              "2  13:23  Credit card  324.31                 4.761905       16.2155     7.4  \n",
              "3  20:33      Ewallet  465.76                 4.761905       23.2880     8.4  \n",
              "4  10:37      Ewallet  604.17                 4.761905       30.2085     5.3  "
            ],
            "text/html": [
              "\n",
              "  <div id=\"df-6d6d9627-93ff-4cb0-ad5b-d853924a292e\" class=\"colab-df-container\">\n",
              "    <div>\n",
              "<style scoped>\n",
              "    .dataframe tbody tr th:only-of-type {\n",
              "        vertical-align: middle;\n",
              "    }\n",
              "\n",
              "    .dataframe tbody tr th {\n",
              "        vertical-align: top;\n",
              "    }\n",
              "\n",
              "    .dataframe thead th {\n",
              "        text-align: right;\n",
              "    }\n",
              "</style>\n",
              "<table border=\"1\" class=\"dataframe\">\n",
              "  <thead>\n",
              "    <tr style=\"text-align: right;\">\n",
              "      <th></th>\n",
              "      <th>Invoice ID</th>\n",
              "      <th>Branch</th>\n",
              "      <th>City</th>\n",
              "      <th>Customer type</th>\n",
              "      <th>Gender</th>\n",
              "      <th>Product line</th>\n",
              "      <th>Unit price</th>\n",
              "      <th>Quantity</th>\n",
              "      <th>Tax 5%</th>\n",
              "      <th>Total</th>\n",
              "      <th>Date</th>\n",
              "      <th>Time</th>\n",
              "      <th>Payment</th>\n",
              "      <th>cogs</th>\n",
              "      <th>gross margin percentage</th>\n",
              "      <th>gross income</th>\n",
              "      <th>Rating</th>\n",
              "    </tr>\n",
              "  </thead>\n",
              "  <tbody>\n",
              "    <tr>\n",
              "      <th>0</th>\n",
              "      <td>750-67-8428</td>\n",
              "      <td>A</td>\n",
              "      <td>Yangon</td>\n",
              "      <td>Member</td>\n",
              "      <td>Female</td>\n",
              "      <td>Health and beauty</td>\n",
              "      <td>74.69</td>\n",
              "      <td>7</td>\n",
              "      <td>26.1415</td>\n",
              "      <td>548.9715</td>\n",
              "      <td>1/5/2019</td>\n",
              "      <td>13:08</td>\n",
              "      <td>Ewallet</td>\n",
              "      <td>522.83</td>\n",
              "      <td>4.761905</td>\n",
              "      <td>26.1415</td>\n",
              "      <td>9.1</td>\n",
              "    </tr>\n",
              "    <tr>\n",
              "      <th>1</th>\n",
              "      <td>226-31-3081</td>\n",
              "      <td>C</td>\n",
              "      <td>Naypyitaw</td>\n",
              "      <td>Normal</td>\n",
              "      <td>Female</td>\n",
              "      <td>Electronic accessories</td>\n",
              "      <td>15.28</td>\n",
              "      <td>5</td>\n",
              "      <td>3.8200</td>\n",
              "      <td>80.2200</td>\n",
              "      <td>3/8/2019</td>\n",
              "      <td>10:29</td>\n",
              "      <td>Cash</td>\n",
              "      <td>76.40</td>\n",
              "      <td>4.761905</td>\n",
              "      <td>3.8200</td>\n",
              "      <td>9.6</td>\n",
              "    </tr>\n",
              "    <tr>\n",
              "      <th>2</th>\n",
              "      <td>631-41-3108</td>\n",
              "      <td>A</td>\n",
              "      <td>Yangon</td>\n",
              "      <td>Normal</td>\n",
              "      <td>Male</td>\n",
              "      <td>Home and lifestyle</td>\n",
              "      <td>46.33</td>\n",
              "      <td>7</td>\n",
              "      <td>16.2155</td>\n",
              "      <td>340.5255</td>\n",
              "      <td>3/3/2019</td>\n",
              "      <td>13:23</td>\n",
              "      <td>Credit card</td>\n",
              "      <td>324.31</td>\n",
              "      <td>4.761905</td>\n",
              "      <td>16.2155</td>\n",
              "      <td>7.4</td>\n",
              "    </tr>\n",
              "    <tr>\n",
              "      <th>3</th>\n",
              "      <td>123-19-1176</td>\n",
              "      <td>A</td>\n",
              "      <td>Yangon</td>\n",
              "      <td>Member</td>\n",
              "      <td>Male</td>\n",
              "      <td>Health and beauty</td>\n",
              "      <td>58.22</td>\n",
              "      <td>8</td>\n",
              "      <td>23.2880</td>\n",
              "      <td>489.0480</td>\n",
              "      <td>1/27/2019</td>\n",
              "      <td>20:33</td>\n",
              "      <td>Ewallet</td>\n",
              "      <td>465.76</td>\n",
              "      <td>4.761905</td>\n",
              "      <td>23.2880</td>\n",
              "      <td>8.4</td>\n",
              "    </tr>\n",
              "    <tr>\n",
              "      <th>4</th>\n",
              "      <td>373-73-7910</td>\n",
              "      <td>A</td>\n",
              "      <td>Yangon</td>\n",
              "      <td>Normal</td>\n",
              "      <td>Male</td>\n",
              "      <td>Sports and travel</td>\n",
              "      <td>86.31</td>\n",
              "      <td>7</td>\n",
              "      <td>30.2085</td>\n",
              "      <td>634.3785</td>\n",
              "      <td>2/8/2019</td>\n",
              "      <td>10:37</td>\n",
              "      <td>Ewallet</td>\n",
              "      <td>604.17</td>\n",
              "      <td>4.761905</td>\n",
              "      <td>30.2085</td>\n",
              "      <td>5.3</td>\n",
              "    </tr>\n",
              "  </tbody>\n",
              "</table>\n",
              "</div>\n",
              "    <div class=\"colab-df-buttons\">\n",
              "\n",
              "  <div class=\"colab-df-container\">\n",
              "    <button class=\"colab-df-convert\" onclick=\"convertToInteractive('df-6d6d9627-93ff-4cb0-ad5b-d853924a292e')\"\n",
              "            title=\"Convert this dataframe to an interactive table.\"\n",
              "            style=\"display:none;\">\n",
              "\n",
              "  <svg xmlns=\"http://www.w3.org/2000/svg\" height=\"24px\" viewBox=\"0 -960 960 960\">\n",
              "    <path d=\"M120-120v-720h720v720H120Zm60-500h600v-160H180v160Zm220 220h160v-160H400v160Zm0 220h160v-160H400v160ZM180-400h160v-160H180v160Zm440 0h160v-160H620v160ZM180-180h160v-160H180v160Zm440 0h160v-160H620v160Z\"/>\n",
              "  </svg>\n",
              "    </button>\n",
              "\n",
              "  <style>\n",
              "    .colab-df-container {\n",
              "      display:flex;\n",
              "      gap: 12px;\n",
              "    }\n",
              "\n",
              "    .colab-df-convert {\n",
              "      background-color: #E8F0FE;\n",
              "      border: none;\n",
              "      border-radius: 50%;\n",
              "      cursor: pointer;\n",
              "      display: none;\n",
              "      fill: #1967D2;\n",
              "      height: 32px;\n",
              "      padding: 0 0 0 0;\n",
              "      width: 32px;\n",
              "    }\n",
              "\n",
              "    .colab-df-convert:hover {\n",
              "      background-color: #E2EBFA;\n",
              "      box-shadow: 0px 1px 2px rgba(60, 64, 67, 0.3), 0px 1px 3px 1px rgba(60, 64, 67, 0.15);\n",
              "      fill: #174EA6;\n",
              "    }\n",
              "\n",
              "    .colab-df-buttons div {\n",
              "      margin-bottom: 4px;\n",
              "    }\n",
              "\n",
              "    [theme=dark] .colab-df-convert {\n",
              "      background-color: #3B4455;\n",
              "      fill: #D2E3FC;\n",
              "    }\n",
              "\n",
              "    [theme=dark] .colab-df-convert:hover {\n",
              "      background-color: #434B5C;\n",
              "      box-shadow: 0px 1px 3px 1px rgba(0, 0, 0, 0.15);\n",
              "      filter: drop-shadow(0px 1px 2px rgba(0, 0, 0, 0.3));\n",
              "      fill: #FFFFFF;\n",
              "    }\n",
              "  </style>\n",
              "\n",
              "    <script>\n",
              "      const buttonEl =\n",
              "        document.querySelector('#df-6d6d9627-93ff-4cb0-ad5b-d853924a292e button.colab-df-convert');\n",
              "      buttonEl.style.display =\n",
              "        google.colab.kernel.accessAllowed ? 'block' : 'none';\n",
              "\n",
              "      async function convertToInteractive(key) {\n",
              "        const element = document.querySelector('#df-6d6d9627-93ff-4cb0-ad5b-d853924a292e');\n",
              "        const dataTable =\n",
              "          await google.colab.kernel.invokeFunction('convertToInteractive',\n",
              "                                                    [key], {});\n",
              "        if (!dataTable) return;\n",
              "\n",
              "        const docLinkHtml = 'Like what you see? Visit the ' +\n",
              "          '<a target=\"_blank\" href=https://colab.research.google.com/notebooks/data_table.ipynb>data table notebook</a>'\n",
              "          + ' to learn more about interactive tables.';\n",
              "        element.innerHTML = '';\n",
              "        dataTable['output_type'] = 'display_data';\n",
              "        await google.colab.output.renderOutput(dataTable, element);\n",
              "        const docLink = document.createElement('div');\n",
              "        docLink.innerHTML = docLinkHtml;\n",
              "        element.appendChild(docLink);\n",
              "      }\n",
              "    </script>\n",
              "  </div>\n",
              "\n",
              "\n",
              "<div id=\"df-9f514a92-5c57-4981-a27d-bc2a41092127\">\n",
              "  <button class=\"colab-df-quickchart\" onclick=\"quickchart('df-9f514a92-5c57-4981-a27d-bc2a41092127')\"\n",
              "            title=\"Suggest charts.\"\n",
              "            style=\"display:none;\">\n",
              "\n",
              "<svg xmlns=\"http://www.w3.org/2000/svg\" height=\"24px\"viewBox=\"0 0 24 24\"\n",
              "     width=\"24px\">\n",
              "    <g>\n",
              "        <path d=\"M19 3H5c-1.1 0-2 .9-2 2v14c0 1.1.9 2 2 2h14c1.1 0 2-.9 2-2V5c0-1.1-.9-2-2-2zM9 17H7v-7h2v7zm4 0h-2V7h2v10zm4 0h-2v-4h2v4z\"/>\n",
              "    </g>\n",
              "</svg>\n",
              "  </button>\n",
              "\n",
              "<style>\n",
              "  .colab-df-quickchart {\n",
              "      --bg-color: #E8F0FE;\n",
              "      --fill-color: #1967D2;\n",
              "      --hover-bg-color: #E2EBFA;\n",
              "      --hover-fill-color: #174EA6;\n",
              "      --disabled-fill-color: #AAA;\n",
              "      --disabled-bg-color: #DDD;\n",
              "  }\n",
              "\n",
              "  [theme=dark] .colab-df-quickchart {\n",
              "      --bg-color: #3B4455;\n",
              "      --fill-color: #D2E3FC;\n",
              "      --hover-bg-color: #434B5C;\n",
              "      --hover-fill-color: #FFFFFF;\n",
              "      --disabled-bg-color: #3B4455;\n",
              "      --disabled-fill-color: #666;\n",
              "  }\n",
              "\n",
              "  .colab-df-quickchart {\n",
              "    background-color: var(--bg-color);\n",
              "    border: none;\n",
              "    border-radius: 50%;\n",
              "    cursor: pointer;\n",
              "    display: none;\n",
              "    fill: var(--fill-color);\n",
              "    height: 32px;\n",
              "    padding: 0;\n",
              "    width: 32px;\n",
              "  }\n",
              "\n",
              "  .colab-df-quickchart:hover {\n",
              "    background-color: var(--hover-bg-color);\n",
              "    box-shadow: 0 1px 2px rgba(60, 64, 67, 0.3), 0 1px 3px 1px rgba(60, 64, 67, 0.15);\n",
              "    fill: var(--button-hover-fill-color);\n",
              "  }\n",
              "\n",
              "  .colab-df-quickchart-complete:disabled,\n",
              "  .colab-df-quickchart-complete:disabled:hover {\n",
              "    background-color: var(--disabled-bg-color);\n",
              "    fill: var(--disabled-fill-color);\n",
              "    box-shadow: none;\n",
              "  }\n",
              "\n",
              "  .colab-df-spinner {\n",
              "    border: 2px solid var(--fill-color);\n",
              "    border-color: transparent;\n",
              "    border-bottom-color: var(--fill-color);\n",
              "    animation:\n",
              "      spin 1s steps(1) infinite;\n",
              "  }\n",
              "\n",
              "  @keyframes spin {\n",
              "    0% {\n",
              "      border-color: transparent;\n",
              "      border-bottom-color: var(--fill-color);\n",
              "      border-left-color: var(--fill-color);\n",
              "    }\n",
              "    20% {\n",
              "      border-color: transparent;\n",
              "      border-left-color: var(--fill-color);\n",
              "      border-top-color: var(--fill-color);\n",
              "    }\n",
              "    30% {\n",
              "      border-color: transparent;\n",
              "      border-left-color: var(--fill-color);\n",
              "      border-top-color: var(--fill-color);\n",
              "      border-right-color: var(--fill-color);\n",
              "    }\n",
              "    40% {\n",
              "      border-color: transparent;\n",
              "      border-right-color: var(--fill-color);\n",
              "      border-top-color: var(--fill-color);\n",
              "    }\n",
              "    60% {\n",
              "      border-color: transparent;\n",
              "      border-right-color: var(--fill-color);\n",
              "    }\n",
              "    80% {\n",
              "      border-color: transparent;\n",
              "      border-right-color: var(--fill-color);\n",
              "      border-bottom-color: var(--fill-color);\n",
              "    }\n",
              "    90% {\n",
              "      border-color: transparent;\n",
              "      border-bottom-color: var(--fill-color);\n",
              "    }\n",
              "  }\n",
              "</style>\n",
              "\n",
              "  <script>\n",
              "    async function quickchart(key) {\n",
              "      const quickchartButtonEl =\n",
              "        document.querySelector('#' + key + ' button');\n",
              "      quickchartButtonEl.disabled = true;  // To prevent multiple clicks.\n",
              "      quickchartButtonEl.classList.add('colab-df-spinner');\n",
              "      try {\n",
              "        const charts = await google.colab.kernel.invokeFunction(\n",
              "            'suggestCharts', [key], {});\n",
              "      } catch (error) {\n",
              "        console.error('Error during call to suggestCharts:', error);\n",
              "      }\n",
              "      quickchartButtonEl.classList.remove('colab-df-spinner');\n",
              "      quickchartButtonEl.classList.add('colab-df-quickchart-complete');\n",
              "    }\n",
              "    (() => {\n",
              "      let quickchartButtonEl =\n",
              "        document.querySelector('#df-9f514a92-5c57-4981-a27d-bc2a41092127 button');\n",
              "      quickchartButtonEl.style.display =\n",
              "        google.colab.kernel.accessAllowed ? 'block' : 'none';\n",
              "    })();\n",
              "  </script>\n",
              "</div>\n",
              "    </div>\n",
              "  </div>\n"
            ]
          },
          "metadata": {},
          "execution_count": 3
        }
      ]
    },
    {
      "cell_type": "code",
      "source": [
        "df.info()"
      ],
      "metadata": {
        "id": "WoN-PZI3acgi",
        "colab": {
          "base_uri": "https://localhost:8080/"
        },
        "outputId": "e641bd11-cdb6-4fa3-ed1f-f679ddf6a165"
      },
      "execution_count": 4,
      "outputs": [
        {
          "output_type": "stream",
          "name": "stdout",
          "text": [
            "<class 'pandas.core.frame.DataFrame'>\n",
            "RangeIndex: 1000 entries, 0 to 999\n",
            "Data columns (total 17 columns):\n",
            " #   Column                   Non-Null Count  Dtype  \n",
            "---  ------                   --------------  -----  \n",
            " 0   Invoice ID               1000 non-null   object \n",
            " 1   Branch                   1000 non-null   object \n",
            " 2   City                     1000 non-null   object \n",
            " 3   Customer type            1000 non-null   object \n",
            " 4   Gender                   1000 non-null   object \n",
            " 5   Product line             1000 non-null   object \n",
            " 6   Unit price               1000 non-null   float64\n",
            " 7   Quantity                 1000 non-null   int64  \n",
            " 8   Tax 5%                   1000 non-null   float64\n",
            " 9   Total                    1000 non-null   float64\n",
            " 10  Date                     1000 non-null   object \n",
            " 11  Time                     1000 non-null   object \n",
            " 12  Payment                  1000 non-null   object \n",
            " 13  cogs                     1000 non-null   float64\n",
            " 14  gross margin percentage  1000 non-null   float64\n",
            " 15  gross income             1000 non-null   float64\n",
            " 16  Rating                   1000 non-null   float64\n",
            "dtypes: float64(7), int64(1), object(9)\n",
            "memory usage: 132.9+ KB\n"
          ]
        }
      ]
    },
    {
      "cell_type": "code",
      "source": [
        "unique_invoice_ids = df['Invoice ID'].nunique()\n",
        "\n",
        "print(f\"Number of unique Invoice IDs: {unique_invoice_ids}\")"
      ],
      "metadata": {
        "colab": {
          "base_uri": "https://localhost:8080/"
        },
        "id": "WKdkva1WUreK",
        "outputId": "a15ecc65-379e-4cd5-fa41-db0094190b44"
      },
      "execution_count": 5,
      "outputs": [
        {
          "output_type": "stream",
          "name": "stdout",
          "text": [
            "Number of unique Invoice IDs: 1000\n"
          ]
        }
      ]
    },
    {
      "cell_type": "code",
      "source": [
        "df.set_index(['Invoice ID'], inplace=True)"
      ],
      "metadata": {
        "id": "9-gukWSJrNZN"
      },
      "execution_count": 6,
      "outputs": []
    },
    {
      "cell_type": "code",
      "source": [
        "df['Date'] = pd.to_datetime(df['Date'], format='%m/%d/%Y')\n",
        "# Convert 'Time' column to datetime without the default date\n",
        "df['Time'] = pd.to_datetime(df['Time'], format='%H:%M').dt.time"
      ],
      "metadata": {
        "id": "gbxEQbLVpbi3"
      },
      "execution_count": 7,
      "outputs": []
    },
    {
      "cell_type": "code",
      "source": [
        "start_date = df['Date'].min()\n",
        "end_date = df['Date'].max()\n",
        "expected_date_range = pd.date_range(start=start_date, end=end_date)\n",
        "\n",
        "# Find the missing date entries\n",
        "missing_dates = expected_date_range[~expected_date_range.isin(df['Date'])]\n",
        "# Print or work with the list of missing dates\n",
        "print(\"Missing Dates:\")\n",
        "missing_df_only_dates = pd.DataFrame(missing_dates)\n",
        "missing_df_only_dates"
      ],
      "metadata": {
        "colab": {
          "base_uri": "https://localhost:8080/",
          "height": 70
        },
        "id": "g0R-twCRUxm3",
        "outputId": "1d022324-fc85-478d-ac21-ec14fbea713f"
      },
      "execution_count": 8,
      "outputs": [
        {
          "output_type": "stream",
          "name": "stdout",
          "text": [
            "Missing Dates:\n"
          ]
        },
        {
          "output_type": "execute_result",
          "data": {
            "text/plain": [
              "Empty DataFrame\n",
              "Columns: [0]\n",
              "Index: []"
            ],
            "text/html": [
              "\n",
              "  <div id=\"df-3e78130e-5d8a-4965-8409-62b13c8fea80\" class=\"colab-df-container\">\n",
              "    <div>\n",
              "<style scoped>\n",
              "    .dataframe tbody tr th:only-of-type {\n",
              "        vertical-align: middle;\n",
              "    }\n",
              "\n",
              "    .dataframe tbody tr th {\n",
              "        vertical-align: top;\n",
              "    }\n",
              "\n",
              "    .dataframe thead th {\n",
              "        text-align: right;\n",
              "    }\n",
              "</style>\n",
              "<table border=\"1\" class=\"dataframe\">\n",
              "  <thead>\n",
              "    <tr style=\"text-align: right;\">\n",
              "      <th></th>\n",
              "      <th>0</th>\n",
              "    </tr>\n",
              "  </thead>\n",
              "  <tbody>\n",
              "  </tbody>\n",
              "</table>\n",
              "</div>\n",
              "    <div class=\"colab-df-buttons\">\n",
              "\n",
              "  <div class=\"colab-df-container\">\n",
              "    <button class=\"colab-df-convert\" onclick=\"convertToInteractive('df-3e78130e-5d8a-4965-8409-62b13c8fea80')\"\n",
              "            title=\"Convert this dataframe to an interactive table.\"\n",
              "            style=\"display:none;\">\n",
              "\n",
              "  <svg xmlns=\"http://www.w3.org/2000/svg\" height=\"24px\" viewBox=\"0 -960 960 960\">\n",
              "    <path d=\"M120-120v-720h720v720H120Zm60-500h600v-160H180v160Zm220 220h160v-160H400v160Zm0 220h160v-160H400v160ZM180-400h160v-160H180v160Zm440 0h160v-160H620v160ZM180-180h160v-160H180v160Zm440 0h160v-160H620v160Z\"/>\n",
              "  </svg>\n",
              "    </button>\n",
              "\n",
              "  <style>\n",
              "    .colab-df-container {\n",
              "      display:flex;\n",
              "      gap: 12px;\n",
              "    }\n",
              "\n",
              "    .colab-df-convert {\n",
              "      background-color: #E8F0FE;\n",
              "      border: none;\n",
              "      border-radius: 50%;\n",
              "      cursor: pointer;\n",
              "      display: none;\n",
              "      fill: #1967D2;\n",
              "      height: 32px;\n",
              "      padding: 0 0 0 0;\n",
              "      width: 32px;\n",
              "    }\n",
              "\n",
              "    .colab-df-convert:hover {\n",
              "      background-color: #E2EBFA;\n",
              "      box-shadow: 0px 1px 2px rgba(60, 64, 67, 0.3), 0px 1px 3px 1px rgba(60, 64, 67, 0.15);\n",
              "      fill: #174EA6;\n",
              "    }\n",
              "\n",
              "    .colab-df-buttons div {\n",
              "      margin-bottom: 4px;\n",
              "    }\n",
              "\n",
              "    [theme=dark] .colab-df-convert {\n",
              "      background-color: #3B4455;\n",
              "      fill: #D2E3FC;\n",
              "    }\n",
              "\n",
              "    [theme=dark] .colab-df-convert:hover {\n",
              "      background-color: #434B5C;\n",
              "      box-shadow: 0px 1px 3px 1px rgba(0, 0, 0, 0.15);\n",
              "      filter: drop-shadow(0px 1px 2px rgba(0, 0, 0, 0.3));\n",
              "      fill: #FFFFFF;\n",
              "    }\n",
              "  </style>\n",
              "\n",
              "    <script>\n",
              "      const buttonEl =\n",
              "        document.querySelector('#df-3e78130e-5d8a-4965-8409-62b13c8fea80 button.colab-df-convert');\n",
              "      buttonEl.style.display =\n",
              "        google.colab.kernel.accessAllowed ? 'block' : 'none';\n",
              "\n",
              "      async function convertToInteractive(key) {\n",
              "        const element = document.querySelector('#df-3e78130e-5d8a-4965-8409-62b13c8fea80');\n",
              "        const dataTable =\n",
              "          await google.colab.kernel.invokeFunction('convertToInteractive',\n",
              "                                                    [key], {});\n",
              "        if (!dataTable) return;\n",
              "\n",
              "        const docLinkHtml = 'Like what you see? Visit the ' +\n",
              "          '<a target=\"_blank\" href=https://colab.research.google.com/notebooks/data_table.ipynb>data table notebook</a>'\n",
              "          + ' to learn more about interactive tables.';\n",
              "        element.innerHTML = '';\n",
              "        dataTable['output_type'] = 'display_data';\n",
              "        await google.colab.output.renderOutput(dataTable, element);\n",
              "        const docLink = document.createElement('div');\n",
              "        docLink.innerHTML = docLinkHtml;\n",
              "        element.appendChild(docLink);\n",
              "      }\n",
              "    </script>\n",
              "  </div>\n",
              "\n",
              "    </div>\n",
              "  </div>\n"
            ]
          },
          "metadata": {},
          "execution_count": 8
        }
      ]
    },
    {
      "cell_type": "code",
      "source": [
        "# Combine 'Date' and 'Time' columns\n",
        "df['DateTime'] = pd.to_datetime(df['Date'].astype(str) + ' ' + df['Time'].astype(str))"
      ],
      "metadata": {
        "id": "oXUrE-EZY7NL"
      },
      "execution_count": 9,
      "outputs": []
    },
    {
      "cell_type": "markdown",
      "source": [
        "### Finding the correlation matrix"
      ],
      "metadata": {
        "id": "CEPuMTFwWJEU"
      }
    },
    {
      "cell_type": "code",
      "source": [
        "import seaborn as sns\n",
        "sns.set()\n",
        "\n",
        "# Heatmap\n",
        "sns.heatmap(df.corr(), annot = True)"
      ],
      "metadata": {
        "colab": {
          "base_uri": "https://localhost:8080/",
          "height": 690
        },
        "id": "kRROEuN8SXXB",
        "outputId": "a4bc525f-9b11-40be-cdcc-76d2c1a30cca"
      },
      "execution_count": 10,
      "outputs": [
        {
          "output_type": "stream",
          "name": "stderr",
          "text": [
            "<ipython-input-10-c800878687de>:5: FutureWarning: The default value of numeric_only in DataFrame.corr is deprecated. In a future version, it will default to False. Select only valid columns or specify the value of numeric_only to silence this warning.\n",
            "  sns.heatmap(df.corr(), annot = True)\n"
          ]
        },
        {
          "output_type": "execute_result",
          "data": {
            "text/plain": [
              "<Axes: >"
            ]
          },
          "metadata": {},
          "execution_count": 10
        },
        {
          "output_type": "display_data",
          "data": {
            "text/plain": [
              "<Figure size 640x480 with 2 Axes>"
            ],
            "image/png": "[encoded data removed]"
          },
          "metadata": {}
        }
      ]
    },
    {
      "cell_type": "markdown",
      "source": [
        "### Dropping of redundant features"
      ],
      "metadata": {
        "id": "vCJcTP1ZXJ1x"
      }
    },
    {
      "cell_type": "code",
      "source": [
        "df = df.drop(['gross margin percentage'], axis=1) #Since it does not show any variation among the rows"
      ],
      "metadata": {
        "id": "ufdFe1F8tYNg"
      },
      "execution_count": 11,
      "outputs": []
    },
    {
      "cell_type": "code",
      "source": [
        "df = df.drop(['Tax 5%', 'cogs'], axis=1) #Since it shows the same correlation"
      ],
      "metadata": {
        "id": "nkB_L666wdua"
      },
      "execution_count": 12,
      "outputs": []
    },
    {
      "cell_type": "code",
      "source": [
        "df = df.drop(['gross income'], axis=1) #Total = quantity * unit price + gross income"
      ],
      "metadata": {
        "id": "UXPMig5hy-X8"
      },
      "execution_count": 13,
      "outputs": []
    },
    {
      "cell_type": "code",
      "source": [
        "branch_counts = df['Branch'].value_counts()\n",
        "\n",
        "print(\"\\nBranch Counts:\")\n",
        "print(branch_counts)"
      ],
      "metadata": {
        "colab": {
          "base_uri": "https://localhost:8080/"
        },
        "id": "ZDDK2MTOVanW",
        "outputId": "1d669720-80fb-4c54-8cba-27bce10945ec"
      },
      "execution_count": 14,
      "outputs": [
        {
          "output_type": "stream",
          "name": "stdout",
          "text": [
            "\n",
            "Branch Counts:\n",
            "A    340\n",
            "B    332\n",
            "C    328\n",
            "Name: Branch, dtype: int64\n"
          ]
        }
      ]
    },
    {
      "cell_type": "code",
      "source": [
        "city_counts = df['City'].value_counts()\n",
        "\n",
        "print(\"\\nCity Counts:\")\n",
        "print(city_counts)"
      ],
      "metadata": {
        "colab": {
          "base_uri": "https://localhost:8080/"
        },
        "id": "OPzOnyqIVj4q",
        "outputId": "1769f988-a12e-42f0-c7d6-b62e512301a6"
      },
      "execution_count": 15,
      "outputs": [
        {
          "output_type": "stream",
          "name": "stdout",
          "text": [
            "\n",
            "City Counts:\n",
            "Yangon       340\n",
            "Mandalay     332\n",
            "Naypyitaw    328\n",
            "Name: City, dtype: int64\n"
          ]
        }
      ]
    },
    {
      "cell_type": "code",
      "source": [
        "# Iterate through unique values in the 'Branch' column\n",
        "for branch in df['Branch'].unique():\n",
        "    # Get the corresponding unique value in the 'City' column\n",
        "    city = df[df['Branch'] == branch]['City'].unique()\n",
        "\n",
        "    if len(city) == 1:\n",
        "        print(f\"Branch type {branch} - City type {city[0]}\")\n",
        "    else:\n",
        "        print(f\"Branch type {branch} is associated with multiple cities.\")"
      ],
      "metadata": {
        "colab": {
          "base_uri": "https://localhost:8080/"
        },
        "id": "hib2nDuyXIxE",
        "outputId": "cdc83420-f978-4650-912b-077605c548c3"
      },
      "execution_count": 16,
      "outputs": [
        {
          "output_type": "stream",
          "name": "stdout",
          "text": [
            "Branch type A - City type Yangon\n",
            "Branch type C - City type Naypyitaw\n",
            "Branch type B - City type Mandalay\n"
          ]
        }
      ]
    },
    {
      "cell_type": "code",
      "source": [
        "df = df.drop('Branch', axis=1)"
      ],
      "metadata": {
        "id": "yYs_PeQ6XQcM"
      },
      "execution_count": 17,
      "outputs": []
    },
    {
      "cell_type": "markdown",
      "source": [
        "### Finding the sales based on the time (morning, afternoon and night)"
      ],
      "metadata": {
        "id": "uZ9h1ET5VUxZ"
      }
    },
    {
      "cell_type": "code",
      "source": [
        "# Extract the hour from the 'PurchaseTime' column\n",
        "df['PurchaseHour'] = df['DateTime'].dt.hour\n",
        "\n",
        "# Define the boundaries for time intervals\n",
        "time_intervals = [0, 6, 12, 18, 24]\n",
        "\n",
        "# Define labels for time intervals\n",
        "time_labels = ['Night', 'Morning', 'Afternoon', 'Night']\n",
        "\n",
        "# Use pd.cut() to discretize the 'PurchaseHour' column into time intervals\n",
        "df['PurchaseTimeLabel'] = pd.cut(df['PurchaseHour'], bins=time_intervals, labels=time_labels, right=False, include_lowest=True, ordered=False)\n",
        "\n",
        "# Drop the intermediate 'PurchaseHour' column if not needed\n",
        "df.drop(columns=['PurchaseHour'], inplace=True)"
      ],
      "metadata": {
        "id": "TgdXPOQyLXLP"
      },
      "execution_count": 18,
      "outputs": []
    },
    {
      "cell_type": "code",
      "source": [
        "branch_counts = df['PurchaseTimeLabel'].value_counts()\n",
        "\n",
        "print(\"\\nPurchase Timewise Counts:\")\n",
        "print(branch_counts)"
      ],
      "metadata": {
        "colab": {
          "base_uri": "https://localhost:8080/"
        },
        "id": "GcknEJLPPUp4",
        "outputId": "2488ae4a-6a22-47d6-c271-9ed7dda8a67f"
      },
      "execution_count": 19,
      "outputs": [
        {
          "output_type": "stream",
          "name": "stdout",
          "text": [
            "\n",
            "Purchase Timewise Counts:\n",
            "Afternoon    528\n",
            "Night        281\n",
            "Morning      191\n",
            "Name: PurchaseTimeLabel, dtype: int64\n"
          ]
        }
      ]
    },
    {
      "cell_type": "code",
      "source": [
        "total_sales_by_time_label = df.groupby('PurchaseTimeLabel')['Total'].sum().reset_index()\n",
        "\n",
        "total_sales_by_time_label"
      ],
      "metadata": {
        "colab": {
          "base_uri": "https://localhost:8080/",
          "height": 143
        },
        "id": "gjvs-WQdk57K",
        "outputId": "cc0d0a2a-73ce-4287-9277-699040f446bd"
      },
      "execution_count": 20,
      "outputs": [
        {
          "output_type": "execute_result",
          "data": {
            "text/plain": [
              "  PurchaseTimeLabel        Total\n",
              "0         Afternoon  172468.5585\n",
              "1           Morning   61798.8105\n",
              "2             Night   88699.3800"
            ],
            "text/html": [
              "\n",
              "  <div id=\"df-92332833-021a-4d14-a67e-4f062f9dd362\" class=\"colab-df-container\">\n",
              "    <div>\n",
              "<style scoped>\n",
              "    .dataframe tbody tr th:only-of-type {\n",
              "        vertical-align: middle;\n",
              "    }\n",
              "\n",
              "    .dataframe tbody tr th {\n",
              "        vertical-align: top;\n",
              "    }\n",
              "\n",
              "    .dataframe thead th {\n",
              "        text-align: right;\n",
              "    }\n",
              "</style>\n",
              "<table border=\"1\" class=\"dataframe\">\n",
              "  <thead>\n",
              "    <tr style=\"text-align: right;\">\n",
              "      <th></th>\n",
              "      <th>PurchaseTimeLabel</th>\n",
              "      <th>Total</th>\n",
              "    </tr>\n",
              "  </thead>\n",
              "  <tbody>\n",
              "    <tr>\n",
              "      <th>0</th>\n",
              "      <td>Afternoon</td>\n",
              "      <td>172468.5585</td>\n",
              "    </tr>\n",
              "    <tr>\n",
              "      <th>1</th>\n",
              "      <td>Morning</td>\n",
              "      <td>61798.8105</td>\n",
              "    </tr>\n",
              "    <tr>\n",
              "      <th>2</th>\n",
              "      <td>Night</td>\n",
              "      <td>88699.3800</td>\n",
              "    </tr>\n",
              "  </tbody>\n",
              "</table>\n",
              "</div>\n",
              "    <div class=\"colab-df-buttons\">\n",
              "\n",
              "  <div class=\"colab-df-container\">\n",
              "    <button class=\"colab-df-convert\" onclick=\"convertToInteractive('df-92332833-021a-4d14-a67e-4f062f9dd362')\"\n",
              "            title=\"Convert this dataframe to an interactive table.\"\n",
              "            style=\"display:none;\">\n",
              "\n",
              "  <svg xmlns=\"http://www.w3.org/2000/svg\" height=\"24px\" viewBox=\"0 -960 960 960\">\n",
              "    <path d=\"M120-120v-720h720v720H120Zm60-500h600v-160H180v160Zm220 220h160v-160H400v160Zm0 220h160v-160H400v160ZM180-400h160v-160H180v160Zm440 0h160v-160H620v160ZM180-180h160v-160H180v160Zm440 0h160v-160H620v160Z\"/>\n",
              "  </svg>\n",
              "    </button>\n",
              "\n",
              "  <style>\n",
              "    .colab-df-container {\n",
              "      display:flex;\n",
              "      gap: 12px;\n",
              "    }\n",
              "\n",
              "    .colab-df-convert {\n",
              "      background-color: #E8F0FE;\n",
              "      border: none;\n",
              "      border-radius: 50%;\n",
              "      cursor: pointer;\n",
              "      display: none;\n",
              "      fill: #1967D2;\n",
              "      height: 32px;\n",
              "      padding: 0 0 0 0;\n",
              "      width: 32px;\n",
              "    }\n",
              "\n",
              "    .colab-df-convert:hover {\n",
              "      background-color: #E2EBFA;\n",
              "      box-shadow: 0px 1px 2px rgba(60, 64, 67, 0.3), 0px 1px 3px 1px rgba(60, 64, 67, 0.15);\n",
              "      fill: #174EA6;\n",
              "    }\n",
              "\n",
              "    .colab-df-buttons div {\n",
              "      margin-bottom: 4px;\n",
              "    }\n",
              "\n",
              "    [theme=dark] .colab-df-convert {\n",
              "      background-color: #3B4455;\n",
              "      fill: #D2E3FC;\n",
              "    }\n",
              "\n",
              "    [theme=dark] .colab-df-convert:hover {\n",
              "      background-color: #434B5C;\n",
              "      box-shadow: 0px 1px 3px 1px rgba(0, 0, 0, 0.15);\n",
              "      filter: drop-shadow(0px 1px 2px rgba(0, 0, 0, 0.3));\n",
              "      fill: #FFFFFF;\n",
              "    }\n",
              "  </style>\n",
              "\n",
              "    <script>\n",
              "      const buttonEl =\n",
              "        document.querySelector('#df-92332833-021a-4d14-a67e-4f062f9dd362 button.colab-df-convert');\n",
              "      buttonEl.style.display =\n",
              "        google.colab.kernel.accessAllowed ? 'block' : 'none';\n",
              "\n",
              "      async function convertToInteractive(key) {\n",
              "        const element = document.querySelector('#df-92332833-021a-4d14-a67e-4f062f9dd362');\n",
              "        const dataTable =\n",
              "          await google.colab.kernel.invokeFunction('convertToInteractive',\n",
              "                                                    [key], {});\n",
              "        if (!dataTable) return;\n",
              "\n",
              "        const docLinkHtml = 'Like what you see? Visit the ' +\n",
              "          '<a target=\"_blank\" href=https://colab.research.google.com/notebooks/data_table.ipynb>data table notebook</a>'\n",
              "          + ' to learn more about interactive tables.';\n",
              "        element.innerHTML = '';\n",
              "        dataTable['output_type'] = 'display_data';\n",
              "        await google.colab.output.renderOutput(dataTable, element);\n",
              "        const docLink = document.createElement('div');\n",
              "        docLink.innerHTML = docLinkHtml;\n",
              "        element.appendChild(docLink);\n",
              "      }\n",
              "    </script>\n",
              "  </div>\n",
              "\n",
              "\n",
              "<div id=\"df-bc44eaed-8afc-464e-b3de-4500b500cfe7\">\n",
              "  <button class=\"colab-df-quickchart\" onclick=\"quickchart('df-bc44eaed-8afc-464e-b3de-4500b500cfe7')\"\n",
              "            title=\"Suggest charts.\"\n",
              "            style=\"display:none;\">\n",
              "\n",
              "<svg xmlns=\"http://www.w3.org/2000/svg\" height=\"24px\"viewBox=\"0 0 24 24\"\n",
              "     width=\"24px\">\n",
              "    <g>\n",
              "        <path d=\"M19 3H5c-1.1 0-2 .9-2 2v14c0 1.1.9 2 2 2h14c1.1 0 2-.9 2-2V5c0-1.1-.9-2-2-2zM9 17H7v-7h2v7zm4 0h-2V7h2v10zm4 0h-2v-4h2v4z\"/>\n",
              "    </g>\n",
              "</svg>\n",
              "  </button>\n",
              "\n",
              "<style>\n",
              "  .colab-df-quickchart {\n",
              "      --bg-color: #E8F0FE;\n",
              "      --fill-color: #1967D2;\n",
              "      --hover-bg-color: #E2EBFA;\n",
              "      --hover-fill-color: #174EA6;\n",
              "      --disabled-fill-color: #AAA;\n",
              "      --disabled-bg-color: #DDD;\n",
              "  }\n",
              "\n",
              "  [theme=dark] .colab-df-quickchart {\n",
              "      --bg-color: #3B4455;\n",
              "      --fill-color: #D2E3FC;\n",
              "      --hover-bg-color: #434B5C;\n",
              "      --hover-fill-color: #FFFFFF;\n",
              "      --disabled-bg-color: #3B4455;\n",
              "      --disabled-fill-color: #666;\n",
              "  }\n",
              "\n",
              "  .colab-df-quickchart {\n",
              "    background-color: var(--bg-color);\n",
              "    border: none;\n",
              "    border-radius: 50%;\n",
              "    cursor: pointer;\n",
              "    display: none;\n",
              "    fill: var(--fill-color);\n",
              "    height: 32px;\n",
              "    padding: 0;\n",
              "    width: 32px;\n",
              "  }\n",
              "\n",
              "  .colab-df-quickchart:hover {\n",
              "    background-color: var(--hover-bg-color);\n",
              "    box-shadow: 0 1px 2px rgba(60, 64, 67, 0.3), 0 1px 3px 1px rgba(60, 64, 67, 0.15);\n",
              "    fill: var(--button-hover-fill-color);\n",
              "  }\n",
              "\n",
              "  .colab-df-quickchart-complete:disabled,\n",
              "  .colab-df-quickchart-complete:disabled:hover {\n",
              "    background-color: var(--disabled-bg-color);\n",
              "    fill: var(--disabled-fill-color);\n",
              "    box-shadow: none;\n",
              "  }\n",
              "\n",
              "  .colab-df-spinner {\n",
              "    border: 2px solid var(--fill-color);\n",
              "    border-color: transparent;\n",
              "    border-bottom-color: var(--fill-color);\n",
              "    animation:\n",
              "      spin 1s steps(1) infinite;\n",
              "  }\n",
              "\n",
              "  @keyframes spin {\n",
              "    0% {\n",
              "      border-color: transparent;\n",
              "      border-bottom-color: var(--fill-color);\n",
              "      border-left-color: var(--fill-color);\n",
              "    }\n",
              "    20% {\n",
              "      border-color: transparent;\n",
              "      border-left-color: var(--fill-color);\n",
              "      border-top-color: var(--fill-color);\n",
              "    }\n",
              "    30% {\n",
              "      border-color: transparent;\n",
              "      border-left-color: var(--fill-color);\n",
              "      border-top-color: var(--fill-color);\n",
              "      border-right-color: var(--fill-color);\n",
              "    }\n",
              "    40% {\n",
              "      border-color: transparent;\n",
              "      border-right-color: var(--fill-color);\n",
              "      border-top-color: var(--fill-color);\n",
              "    }\n",
              "    60% {\n",
              "      border-color: transparent;\n",
              "      border-right-color: var(--fill-color);\n",
              "    }\n",
              "    80% {\n",
              "      border-color: transparent;\n",
              "      border-right-color: var(--fill-color);\n",
              "      border-bottom-color: var(--fill-color);\n",
              "    }\n",
              "    90% {\n",
              "      border-color: transparent;\n",
              "      border-bottom-color: var(--fill-color);\n",
              "    }\n",
              "  }\n",
              "</style>\n",
              "\n",
              "  <script>\n",
              "    async function quickchart(key) {\n",
              "      const quickchartButtonEl =\n",
              "        document.querySelector('#' + key + ' button');\n",
              "      quickchartButtonEl.disabled = true;  // To prevent multiple clicks.\n",
              "      quickchartButtonEl.classList.add('colab-df-spinner');\n",
              "      try {\n",
              "        const charts = await google.colab.kernel.invokeFunction(\n",
              "            'suggestCharts', [key], {});\n",
              "      } catch (error) {\n",
              "        console.error('Error during call to suggestCharts:', error);\n",
              "      }\n",
              "      quickchartButtonEl.classList.remove('colab-df-spinner');\n",
              "      quickchartButtonEl.classList.add('colab-df-quickchart-complete');\n",
              "    }\n",
              "    (() => {\n",
              "      let quickchartButtonEl =\n",
              "        document.querySelector('#df-bc44eaed-8afc-464e-b3de-4500b500cfe7 button');\n",
              "      quickchartButtonEl.style.display =\n",
              "        google.colab.kernel.accessAllowed ? 'block' : 'none';\n",
              "    })();\n",
              "  </script>\n",
              "</div>\n",
              "    </div>\n",
              "  </div>\n"
            ]
          },
          "metadata": {},
          "execution_count": 20
        }
      ]
    },
    {
      "cell_type": "markdown",
      "source": [
        "### Plotting variation of daily sales (1/1/2019 - 30/3/2019)"
      ],
      "metadata": {
        "id": "eoZ42VIsUufx"
      }
    },
    {
      "cell_type": "code",
      "source": [
        "sales_per_date = df.groupby('Date').agg({'Time': 'count', 'Total': 'sum'}).reset_index()\n",
        "\n",
        "# Rename the columns\n",
        "sales_per_date.rename(columns={'Time': 'Number of Sales', 'Total': 'Total Sales'}, inplace=True)\n",
        "\n",
        "# Extract the day of the week (0 = Monday, 6 = Sunday)\n",
        "sales_per_date['Day of Week'] = sales_per_date['Date'].dt.dayofweek\n",
        "sales_per_date"
      ],
      "metadata": {
        "id": "8_Zt1Ghzb7qR",
        "colab": {
          "base_uri": "https://localhost:8080/",
          "height": 424
        },
        "outputId": "77e342df-62ea-4a12-9d13-7b8bd94d6045"
      },
      "execution_count": 21,
      "outputs": [
        {
          "output_type": "execute_result",
          "data": {
            "text/plain": [
              "         Date  Number of Sales  Total Sales  Day of Week\n",
              "0  2019-01-01               12    4745.1810            1\n",
              "1  2019-01-02                8    1945.5030            2\n",
              "2  2019-01-03                8    2078.1285            3\n",
              "3  2019-01-04                6    1623.6885            4\n",
              "4  2019-01-05               12    3536.6835            5\n",
              "..        ...              ...          ...          ...\n",
              "84 2019-03-26               13    1962.5130            1\n",
              "85 2019-03-27               10    2902.8195            2\n",
              "86 2019-03-28               10    2229.4020            3\n",
              "87 2019-03-29                8    4023.2430            4\n",
              "88 2019-03-30               11    4487.0595            5\n",
              "\n",
              "[89 rows x 4 columns]"
            ],
            "text/html": [
              "\n",
              "  <div id=\"df-f73a2e62-3164-4b68-b57a-c331cdfb50b5\" class=\"colab-df-container\">\n",
              "    <div>\n",
              "<style scoped>\n",
              "    .dataframe tbody tr th:only-of-type {\n",
              "        vertical-align: middle;\n",
              "    }\n",
              "\n",
              "    .dataframe tbody tr th {\n",
              "        vertical-align: top;\n",
              "    }\n",
              "\n",
              "    .dataframe thead th {\n",
              "        text-align: right;\n",
              "    }\n",
              "</style>\n",
              "<table border=\"1\" class=\"dataframe\">\n",
              "  <thead>\n",
              "    <tr style=\"text-align: right;\">\n",
              "      <th></th>\n",
              "      <th>Date</th>\n",
              "      <th>Number of Sales</th>\n",
              "      <th>Total Sales</th>\n",
              "      <th>Day of Week</th>\n",
              "    </tr>\n",
              "  </thead>\n",
              "  <tbody>\n",
              "    <tr>\n",
              "      <th>0</th>\n",
              "      <td>2019-01-01</td>\n",
              "      <td>12</td>\n",
              "      <td>4745.1810</td>\n",
              "      <td>1</td>\n",
              "    </tr>\n",
              "    <tr>\n",
              "      <th>1</th>\n",
              "      <td>2019-01-02</td>\n",
              "      <td>8</td>\n",
              "      <td>1945.5030</td>\n",
              "      <td>2</td>\n",
              "    </tr>\n",
              "    <tr>\n",
              "      <th>2</th>\n",
              "      <td>2019-01-03</td>\n",
              "      <td>8</td>\n",
              "      <td>2078.1285</td>\n",
              "      <td>3</td>\n",
              "    </tr>\n",
              "    <tr>\n",
              "      <th>3</th>\n",
              "      <td>2019-01-04</td>\n",
              "      <td>6</td>\n",
              "      <td>1623.6885</td>\n",
              "      <td>4</td>\n",
              "    </tr>\n",
              "    <tr>\n",
              "      <th>4</th>\n",
              "      <td>2019-01-05</td>\n",
              "      <td>12</td>\n",
              "      <td>3536.6835</td>\n",
              "      <td>5</td>\n",
              "    </tr>\n",
              "    <tr>\n",
              "      <th>...</th>\n",
              "      <td>...</td>\n",
              "      <td>...</td>\n",
              "      <td>...</td>\n",
              "      <td>...</td>\n",
              "    </tr>\n",
              "    <tr>\n",
              "      <th>84</th>\n",
              "      <td>2019-03-26</td>\n",
              "      <td>13</td>\n",
              "      <td>1962.5130</td>\n",
              "      <td>1</td>\n",
              "    </tr>\n",
              "    <tr>\n",
              "      <th>85</th>\n",
              "      <td>2019-03-27</td>\n",
              "      <td>10</td>\n",
              "      <td>2902.8195</td>\n",
              "      <td>2</td>\n",
              "    </tr>\n",
              "    <tr>\n",
              "      <th>86</th>\n",
              "      <td>2019-03-28</td>\n",
              "      <td>10</td>\n",
              "      <td>2229.4020</td>\n",
              "      <td>3</td>\n",
              "    </tr>\n",
              "    <tr>\n",
              "      <th>87</th>\n",
              "      <td>2019-03-29</td>\n",
              "      <td>8</td>\n",
              "      <td>4023.2430</td>\n",
              "      <td>4</td>\n",
              "    </tr>\n",
              "    <tr>\n",
              "      <th>88</th>\n",
              "      <td>2019-03-30</td>\n",
              "      <td>11</td>\n",
              "      <td>4487.0595</td>\n",
              "      <td>5</td>\n",
              "    </tr>\n",
              "  </tbody>\n",
              "</table>\n",
              "<p>89 rows × 4 columns</p>\n",
              "</div>\n",
              "    <div class=\"colab-df-buttons\">\n",
              "\n",
              "  <div class=\"colab-df-container\">\n",
              "    <button class=\"colab-df-convert\" onclick=\"convertToInteractive('df-f73a2e62-3164-4b68-b57a-c331cdfb50b5')\"\n",
              "            title=\"Convert this dataframe to an interactive table.\"\n",
              "            style=\"display:none;\">\n",
              "\n",
              "  <svg xmlns=\"http://www.w3.org/2000/svg\" height=\"24px\" viewBox=\"0 -960 960 960\">\n",
              "    <path d=\"M120-120v-720h720v720H120Zm60-500h600v-160H180v160Zm220 220h160v-160H400v160Zm0 220h160v-160H400v160ZM180-400h160v-160H180v160Zm440 0h160v-160H620v160ZM180-180h160v-160H180v160Zm440 0h160v-160H620v160Z\"/>\n",
              "  </svg>\n",
              "    </button>\n",
              "\n",
              "  <style>\n",
              "    .colab-df-container {\n",
              "      display:flex;\n",
              "      gap: 12px;\n",
              "    }\n",
              "\n",
              "    .colab-df-convert {\n",
              "      background-color: #E8F0FE;\n",
              "      border: none;\n",
              "      border-radius: 50%;\n",
              "      cursor: pointer;\n",
              "      display: none;\n",
              "      fill: #1967D2;\n",
              "      height: 32px;\n",
              "      padding: 0 0 0 0;\n",
              "      width: 32px;\n",
              "    }\n",
              "\n",
              "    .colab-df-convert:hover {\n",
              "      background-color: #E2EBFA;\n",
              "      box-shadow: 0px 1px 2px rgba(60, 64, 67, 0.3), 0px 1px 3px 1px rgba(60, 64, 67, 0.15);\n",
              "      fill: #174EA6;\n",
              "    }\n",
              "\n",
              "    .colab-df-buttons div {\n",
              "      margin-bottom: 4px;\n",
              "    }\n",
              "\n",
              "    [theme=dark] .colab-df-convert {\n",
              "      background-color: #3B4455;\n",
              "      fill: #D2E3FC;\n",
              "    }\n",
              "\n",
              "    [theme=dark] .colab-df-convert:hover {\n",
              "      background-color: #434B5C;\n",
              "      box-shadow: 0px 1px 3px 1px rgba(0, 0, 0, 0.15);\n",
              "      filter: drop-shadow(0px 1px 2px rgba(0, 0, 0, 0.3));\n",
              "      fill: #FFFFFF;\n",
              "    }\n",
              "  </style>\n",
              "\n",
              "    <script>\n",
              "      const buttonEl =\n",
              "        document.querySelector('#df-f73a2e62-3164-4b68-b57a-c331cdfb50b5 button.colab-df-convert');\n",
              "      buttonEl.style.display =\n",
              "        google.colab.kernel.accessAllowed ? 'block' : 'none';\n",
              "\n",
              "      async function convertToInteractive(key) {\n",
              "        const element = document.querySelector('#df-f73a2e62-3164-4b68-b57a-c331cdfb50b5');\n",
              "        const dataTable =\n",
              "          await google.colab.kernel.invokeFunction('convertToInteractive',\n",
              "                                                    [key], {});\n",
              "        if (!dataTable) return;\n",
              "\n",
              "        const docLinkHtml = 'Like what you see? Visit the ' +\n",
              "          '<a target=\"_blank\" href=https://colab.research.google.com/notebooks/data_table.ipynb>data table notebook</a>'\n",
              "          + ' to learn more about interactive tables.';\n",
              "        element.innerHTML = '';\n",
              "        dataTable['output_type'] = 'display_data';\n",
              "        await google.colab.output.renderOutput(dataTable, element);\n",
              "        const docLink = document.createElement('div');\n",
              "        docLink.innerHTML = docLinkHtml;\n",
              "        element.appendChild(docLink);\n",
              "      }\n",
              "    </script>\n",
              "  </div>\n",
              "\n",
              "\n",
              "<div id=\"df-d38e39b3-3141-4818-8207-61b9565f6649\">\n",
              "  <button class=\"colab-df-quickchart\" onclick=\"quickchart('df-d38e39b3-3141-4818-8207-61b9565f6649')\"\n",
              "            title=\"Suggest charts.\"\n",
              "            style=\"display:none;\">\n",
              "\n",
              "<svg xmlns=\"http://www.w3.org/2000/svg\" height=\"24px\"viewBox=\"0 0 24 24\"\n",
              "     width=\"24px\">\n",
              "    <g>\n",
              "        <path d=\"M19 3H5c-1.1 0-2 .9-2 2v14c0 1.1.9 2 2 2h14c1.1 0 2-.9 2-2V5c0-1.1-.9-2-2-2zM9 17H7v-7h2v7zm4 0h-2V7h2v10zm4 0h-2v-4h2v4z\"/>\n",
              "    </g>\n",
              "</svg>\n",
              "  </button>\n",
              "\n",
              "<style>\n",
              "  .colab-df-quickchart {\n",
              "      --bg-color: #E8F0FE;\n",
              "      --fill-color: #1967D2;\n",
              "      --hover-bg-color: #E2EBFA;\n",
              "      --hover-fill-color: #174EA6;\n",
              "      --disabled-fill-color: #AAA;\n",
              "      --disabled-bg-color: #DDD;\n",
              "  }\n",
              "\n",
              "  [theme=dark] .colab-df-quickchart {\n",
              "      --bg-color: #3B4455;\n",
              "      --fill-color: #D2E3FC;\n",
              "      --hover-bg-color: #434B5C;\n",
              "      --hover-fill-color: #FFFFFF;\n",
              "      --disabled-bg-color: #3B4455;\n",
              "      --disabled-fill-color: #666;\n",
              "  }\n",
              "\n",
              "  .colab-df-quickchart {\n",
              "    background-color: var(--bg-color);\n",
              "    border: none;\n",
              "    border-radius: 50%;\n",
              "    cursor: pointer;\n",
              "    display: none;\n",
              "    fill: var(--fill-color);\n",
              "    height: 32px;\n",
              "    padding: 0;\n",
              "    width: 32px;\n",
              "  }\n",
              "\n",
              "  .colab-df-quickchart:hover {\n",
              "    background-color: var(--hover-bg-color);\n",
              "    box-shadow: 0 1px 2px rgba(60, 64, 67, 0.3), 0 1px 3px 1px rgba(60, 64, 67, 0.15);\n",
              "    fill: var(--button-hover-fill-color);\n",
              "  }\n",
              "\n",
              "  .colab-df-quickchart-complete:disabled,\n",
              "  .colab-df-quickchart-complete:disabled:hover {\n",
              "    background-color: var(--disabled-bg-color);\n",
              "    fill: var(--disabled-fill-color);\n",
              "    box-shadow: none;\n",
              "  }\n",
              "\n",
              "  .colab-df-spinner {\n",
              "    border: 2px solid var(--fill-color);\n",
              "    border-color: transparent;\n",
              "    border-bottom-color: var(--fill-color);\n",
              "    animation:\n",
              "      spin 1s steps(1) infinite;\n",
              "  }\n",
              "\n",
              "  @keyframes spin {\n",
              "    0% {\n",
              "      border-color: transparent;\n",
              "      border-bottom-color: var(--fill-color);\n",
              "      border-left-color: var(--fill-color);\n",
              "    }\n",
              "    20% {\n",
              "      border-color: transparent;\n",
              "      border-left-color: var(--fill-color);\n",
              "      border-top-color: var(--fill-color);\n",
              "    }\n",
              "    30% {\n",
              "      border-color: transparent;\n",
              "      border-left-color: var(--fill-color);\n",
              "      border-top-color: var(--fill-color);\n",
              "      border-right-color: var(--fill-color);\n",
              "    }\n",
              "    40% {\n",
              "      border-color: transparent;\n",
              "      border-right-color: var(--fill-color);\n",
              "      border-top-color: var(--fill-color);\n",
              "    }\n",
              "    60% {\n",
              "      border-color: transparent;\n",
              "      border-right-color: var(--fill-color);\n",
              "    }\n",
              "    80% {\n",
              "      border-color: transparent;\n",
              "      border-right-color: var(--fill-color);\n",
              "      border-bottom-color: var(--fill-color);\n",
              "    }\n",
              "    90% {\n",
              "      border-color: transparent;\n",
              "      border-bottom-color: var(--fill-color);\n",
              "    }\n",
              "  }\n",
              "</style>\n",
              "\n",
              "  <script>\n",
              "    async function quickchart(key) {\n",
              "      const quickchartButtonEl =\n",
              "        document.querySelector('#' + key + ' button');\n",
              "      quickchartButtonEl.disabled = true;  // To prevent multiple clicks.\n",
              "      quickchartButtonEl.classList.add('colab-df-spinner');\n",
              "      try {\n",
              "        const charts = await google.colab.kernel.invokeFunction(\n",
              "            'suggestCharts', [key], {});\n",
              "      } catch (error) {\n",
              "        console.error('Error during call to suggestCharts:', error);\n",
              "      }\n",
              "      quickchartButtonEl.classList.remove('colab-df-spinner');\n",
              "      quickchartButtonEl.classList.add('colab-df-quickchart-complete');\n",
              "    }\n",
              "    (() => {\n",
              "      let quickchartButtonEl =\n",
              "        document.querySelector('#df-d38e39b3-3141-4818-8207-61b9565f6649 button');\n",
              "      quickchartButtonEl.style.display =\n",
              "        google.colab.kernel.accessAllowed ? 'block' : 'none';\n",
              "    })();\n",
              "  </script>\n",
              "</div>\n",
              "    </div>\n",
              "  </div>\n"
            ]
          },
          "metadata": {},
          "execution_count": 21
        }
      ]
    },
    {
      "cell_type": "code",
      "source": [
        "# Create a mask for weekends\n",
        "weekend_mask = ((sales_per_date['Day of Week'] == 5) | (sales_per_date['Day of Week'] == 6))\n",
        "\n",
        "# Plot the total sales\n",
        "plt.figure(figsize=(12, 6))\n",
        "plt.plot(sales_per_date['Date'], sales_per_date['Total Sales'], marker='o', linestyle='-', label='Total Sales')\n",
        "\n",
        "# Highlight weekends (Saturday and Sunday) with a different color\n",
        "plt.fill_between(sales_per_date['Date'], 0, sales_per_date['Total Sales'], where=weekend_mask, alpha=0.3, color='red', label='Weekend')\n",
        "\n",
        "plt.xlabel('Date')\n",
        "plt.ylabel('Total Sales')\n",
        "plt.title('Total Sales per Date with Weekend Highlight')\n",
        "plt.grid(True)\n",
        "plt.legend()\n",
        "plt.show()"
      ],
      "metadata": {
        "colab": {
          "base_uri": "https://localhost:8080/",
          "height": 573
        },
        "id": "ltdV3L4Ag7oc",
        "outputId": "cb398d92-c8d9-42fd-d507-120db7be4574"
      },
      "execution_count": 22,
      "outputs": [
        {
          "output_type": "display_data",
          "data": {
            "text/plain": [
              "<Figure size 1200x600 with 1 Axes>"
            ],
            "image/png": "[encoded data removed]"
          },
          "metadata": {}
        }
      ]
    },
    {
      "cell_type": "code",
      "source": [
        "df = df.drop(['Date','Time'], axis=1)"
      ],
      "metadata": {
        "id": "fobeaAyuq1nN"
      },
      "execution_count": 23,
      "outputs": []
    },
    {
      "cell_type": "markdown",
      "source": [
        "### Finding sales based on cities for different time ranges"
      ],
      "metadata": {
        "id": "ud35FDhxZDeJ"
      }
    },
    {
      "cell_type": "code",
      "source": [
        "total_sales_by_City = df.groupby('City').agg({'DateTime': 'count', 'Total': 'sum'}).reset_index()\n",
        "\n",
        "total_sales_by_City.rename(columns={'DateTime': 'Number of Sales', 'Total': 'Total Sales'}, inplace=True)\n",
        "\n",
        "total_sales_by_City"
      ],
      "metadata": {
        "colab": {
          "base_uri": "https://localhost:8080/",
          "height": 143
        },
        "id": "wi3IhPBFHtps",
        "outputId": "a67fed56-51fd-4582-8d76-2467e1062b78"
      },
      "execution_count": 24,
      "outputs": [
        {
          "output_type": "execute_result",
          "data": {
            "text/plain": [
              "        City  Number of Sales  Total Sales\n",
              "0   Mandalay              332  106197.6720\n",
              "1  Naypyitaw              328  110568.7065\n",
              "2     Yangon              340  106200.3705"
            ],
            "text/html": [
              "\n",
              "  <div id=\"df-2333ce1f-f6c4-4cba-9ed5-581baf778e4d\" class=\"colab-df-container\">\n",
              "    <div>\n",
              "<style scoped>\n",
              "    .dataframe tbody tr th:only-of-type {\n",
              "        vertical-align: middle;\n",
              "    }\n",
              "\n",
              "    .dataframe tbody tr th {\n",
              "        vertical-align: top;\n",
              "    }\n",
              "\n",
              "    .dataframe thead th {\n",
              "        text-align: right;\n",
              "    }\n",
              "</style>\n",
              "<table border=\"1\" class=\"dataframe\">\n",
              "  <thead>\n",
              "    <tr style=\"text-align: right;\">\n",
              "      <th></th>\n",
              "      <th>City</th>\n",
              "      <th>Number of Sales</th>\n",
              "      <th>Total Sales</th>\n",
              "    </tr>\n",
              "  </thead>\n",
              "  <tbody>\n",
              "    <tr>\n",
              "      <th>0</th>\n",
              "      <td>Mandalay</td>\n",
              "      <td>332</td>\n",
              "      <td>106197.6720</td>\n",
              "    </tr>\n",
              "    <tr>\n",
              "      <th>1</th>\n",
              "      <td>Naypyitaw</td>\n",
              "      <td>328</td>\n",
              "      <td>110568.7065</td>\n",
              "    </tr>\n",
              "    <tr>\n",
              "      <th>2</th>\n",
              "      <td>Yangon</td>\n",
              "      <td>340</td>\n",
              "      <td>106200.3705</td>\n",
              "    </tr>\n",
              "  </tbody>\n",
              "</table>\n",
              "</div>\n",
              "    <div class=\"colab-df-buttons\">\n",
              "\n",
              "  <div class=\"colab-df-container\">\n",
              "    <button class=\"colab-df-convert\" onclick=\"convertToInteractive('df-2333ce1f-f6c4-4cba-9ed5-581baf778e4d')\"\n",
              "            title=\"Convert this dataframe to an interactive table.\"\n",
              "            style=\"display:none;\">\n",
              "\n",
              "  <svg xmlns=\"http://www.w3.org/2000/svg\" height=\"24px\" viewBox=\"0 -960 960 960\">\n",
              "    <path d=\"M120-120v-720h720v720H120Zm60-500h600v-160H180v160Zm220 220h160v-160H400v160Zm0 220h160v-160H400v160ZM180-400h160v-160H180v160Zm440 0h160v-160H620v160ZM180-180h160v-160H180v160Zm440 0h160v-160H620v160Z\"/>\n",
              "  </svg>\n",
              "    </button>\n",
              "\n",
              "  <style>\n",
              "    .colab-df-container {\n",
              "      display:flex;\n",
              "      gap: 12px;\n",
              "    }\n",
              "\n",
              "    .colab-df-convert {\n",
              "      background-color: #E8F0FE;\n",
              "      border: none;\n",
              "      border-radius: 50%;\n",
              "      cursor: pointer;\n",
              "      display: none;\n",
              "      fill: #1967D2;\n",
              "      height: 32px;\n",
              "      padding: 0 0 0 0;\n",
              "      width: 32px;\n",
              "    }\n",
              "\n",
              "    .colab-df-convert:hover {\n",
              "      background-color: #E2EBFA;\n",
              "      box-shadow: 0px 1px 2px rgba(60, 64, 67, 0.3), 0px 1px 3px 1px rgba(60, 64, 67, 0.15);\n",
              "      fill: #174EA6;\n",
              "    }\n",
              "\n",
              "    .colab-df-buttons div {\n",
              "      margin-bottom: 4px;\n",
              "    }\n",
              "\n",
              "    [theme=dark] .colab-df-convert {\n",
              "      background-color: #3B4455;\n",
              "      fill: #D2E3FC;\n",
              "    }\n",
              "\n",
              "    [theme=dark] .colab-df-convert:hover {\n",
              "      background-color: #434B5C;\n",
              "      box-shadow: 0px 1px 3px 1px rgba(0, 0, 0, 0.15);\n",
              "      filter: drop-shadow(0px 1px 2px rgba(0, 0, 0, 0.3));\n",
              "      fill: #FFFFFF;\n",
              "    }\n",
              "  </style>\n",
              "\n",
              "    <script>\n",
              "      const buttonEl =\n",
              "        document.querySelector('#df-2333ce1f-f6c4-4cba-9ed5-581baf778e4d button.colab-df-convert');\n",
              "      buttonEl.style.display =\n",
              "        google.colab.kernel.accessAllowed ? 'block' : 'none';\n",
              "\n",
              "      async function convertToInteractive(key) {\n",
              "        const element = document.querySelector('#df-2333ce1f-f6c4-4cba-9ed5-581baf778e4d');\n",
              "        const dataTable =\n",
              "          await google.colab.kernel.invokeFunction('convertToInteractive',\n",
              "                                                    [key], {});\n",
              "        if (!dataTable) return;\n",
              "\n",
              "        const docLinkHtml = 'Like what you see? Visit the ' +\n",
              "          '<a target=\"_blank\" href=https://colab.research.google.com/notebooks/data_table.ipynb>data table notebook</a>'\n",
              "          + ' to learn more about interactive tables.';\n",
              "        element.innerHTML = '';\n",
              "        dataTable['output_type'] = 'display_data';\n",
              "        await google.colab.output.renderOutput(dataTable, element);\n",
              "        const docLink = document.createElement('div');\n",
              "        docLink.innerHTML = docLinkHtml;\n",
              "        element.appendChild(docLink);\n",
              "      }\n",
              "    </script>\n",
              "  </div>\n",
              "\n",
              "\n",
              "<div id=\"df-06fb410f-f347-4164-b9ce-9426868f8495\">\n",
              "  <button class=\"colab-df-quickchart\" onclick=\"quickchart('df-06fb410f-f347-4164-b9ce-9426868f8495')\"\n",
              "            title=\"Suggest charts.\"\n",
              "            style=\"display:none;\">\n",
              "\n",
              "<svg xmlns=\"http://www.w3.org/2000/svg\" height=\"24px\"viewBox=\"0 0 24 24\"\n",
              "     width=\"24px\">\n",
              "    <g>\n",
              "        <path d=\"M19 3H5c-1.1 0-2 .9-2 2v14c0 1.1.9 2 2 2h14c1.1 0 2-.9 2-2V5c0-1.1-.9-2-2-2zM9 17H7v-7h2v7zm4 0h-2V7h2v10zm4 0h-2v-4h2v4z\"/>\n",
              "    </g>\n",
              "</svg>\n",
              "  </button>\n",
              "\n",
              "<style>\n",
              "  .colab-df-quickchart {\n",
              "      --bg-color: #E8F0FE;\n",
              "      --fill-color: #1967D2;\n",
              "      --hover-bg-color: #E2EBFA;\n",
              "      --hover-fill-color: #174EA6;\n",
              "      --disabled-fill-color: #AAA;\n",
              "      --disabled-bg-color: #DDD;\n",
              "  }\n",
              "\n",
              "  [theme=dark] .colab-df-quickchart {\n",
              "      --bg-color: #3B4455;\n",
              "      --fill-color: #D2E3FC;\n",
              "      --hover-bg-color: #434B5C;\n",
              "      --hover-fill-color: #FFFFFF;\n",
              "      --disabled-bg-color: #3B4455;\n",
              "      --disabled-fill-color: #666;\n",
              "  }\n",
              "\n",
              "  .colab-df-quickchart {\n",
              "    background-color: var(--bg-color);\n",
              "    border: none;\n",
              "    border-radius: 50%;\n",
              "    cursor: pointer;\n",
              "    display: none;\n",
              "    fill: var(--fill-color);\n",
              "    height: 32px;\n",
              "    padding: 0;\n",
              "    width: 32px;\n",
              "  }\n",
              "\n",
              "  .colab-df-quickchart:hover {\n",
              "    background-color: var(--hover-bg-color);\n",
              "    box-shadow: 0 1px 2px rgba(60, 64, 67, 0.3), 0 1px 3px 1px rgba(60, 64, 67, 0.15);\n",
              "    fill: var(--button-hover-fill-color);\n",
              "  }\n",
              "\n",
              "  .colab-df-quickchart-complete:disabled,\n",
              "  .colab-df-quickchart-complete:disabled:hover {\n",
              "    background-color: var(--disabled-bg-color);\n",
              "    fill: var(--disabled-fill-color);\n",
              "    box-shadow: none;\n",
              "  }\n",
              "\n",
              "  .colab-df-spinner {\n",
              "    border: 2px solid var(--fill-color);\n",
              "    border-color: transparent;\n",
              "    border-bottom-color: var(--fill-color);\n",
              "    animation:\n",
              "      spin 1s steps(1) infinite;\n",
              "  }\n",
              "\n",
              "  @keyframes spin {\n",
              "    0% {\n",
              "      border-color: transparent;\n",
              "      border-bottom-color: var(--fill-color);\n",
              "      border-left-color: var(--fill-color);\n",
              "    }\n",
              "    20% {\n",
              "      border-color: transparent;\n",
              "      border-left-color: var(--fill-color);\n",
              "      border-top-color: var(--fill-color);\n",
              "    }\n",
              "    30% {\n",
              "      border-color: transparent;\n",
              "      border-left-color: var(--fill-color);\n",
              "      border-top-color: var(--fill-color);\n",
              "      border-right-color: var(--fill-color);\n",
              "    }\n",
              "    40% {\n",
              "      border-color: transparent;\n",
              "      border-right-color: var(--fill-color);\n",
              "      border-top-color: var(--fill-color);\n",
              "    }\n",
              "    60% {\n",
              "      border-color: transparent;\n",
              "      border-right-color: var(--fill-color);\n",
              "    }\n",
              "    80% {\n",
              "      border-color: transparent;\n",
              "      border-right-color: var(--fill-color);\n",
              "      border-bottom-color: var(--fill-color);\n",
              "    }\n",
              "    90% {\n",
              "      border-color: transparent;\n",
              "      border-bottom-color: var(--fill-color);\n",
              "    }\n",
              "  }\n",
              "</style>\n",
              "\n",
              "  <script>\n",
              "    async function quickchart(key) {\n",
              "      const quickchartButtonEl =\n",
              "        document.querySelector('#' + key + ' button');\n",
              "      quickchartButtonEl.disabled = true;  // To prevent multiple clicks.\n",
              "      quickchartButtonEl.classList.add('colab-df-spinner');\n",
              "      try {\n",
              "        const charts = await google.colab.kernel.invokeFunction(\n",
              "            'suggestCharts', [key], {});\n",
              "      } catch (error) {\n",
              "        console.error('Error during call to suggestCharts:', error);\n",
              "      }\n",
              "      quickchartButtonEl.classList.remove('colab-df-spinner');\n",
              "      quickchartButtonEl.classList.add('colab-df-quickchart-complete');\n",
              "    }\n",
              "    (() => {\n",
              "      let quickchartButtonEl =\n",
              "        document.querySelector('#df-06fb410f-f347-4164-b9ce-9426868f8495 button');\n",
              "      quickchartButtonEl.style.display =\n",
              "        google.colab.kernel.accessAllowed ? 'block' : 'none';\n",
              "    })();\n",
              "  </script>\n",
              "</div>\n",
              "    </div>\n",
              "  </div>\n"
            ]
          },
          "metadata": {},
          "execution_count": 24
        }
      ]
    },
    {
      "cell_type": "code",
      "source": [
        "# Group the data by 'PurchaseTimeLabel' and 'City', and count the number of rows in each group\n",
        "sales_count = df.groupby(['PurchaseTimeLabel', 'City']).agg({'DateTime': 'count', 'Total': 'sum'}).reset_index()\n",
        "\n",
        "sales_count.rename(columns={'DateTime': 'Number of Sales', 'Total': 'Total Sales'}, inplace=True)\n",
        "\n",
        "# Display the result\n",
        "sales_count"
      ],
      "metadata": {
        "colab": {
          "base_uri": "https://localhost:8080/",
          "height": 332
        },
        "id": "MV0GgWcDKi8s",
        "outputId": "191591c7-937a-4818-a0d8-08be49034024"
      },
      "execution_count": 25,
      "outputs": [
        {
          "output_type": "execute_result",
          "data": {
            "text/plain": [
              "  PurchaseTimeLabel       City  Number of Sales  Total Sales\n",
              "0         Afternoon   Mandalay              162   53648.1645\n",
              "1         Afternoon  Naypyitaw              181   58851.9855\n",
              "2         Afternoon     Yangon              185   59968.4085\n",
              "3           Morning   Mandalay               59   19347.6570\n",
              "4           Morning  Naypyitaw               59   19892.8485\n",
              "5           Morning     Yangon               73   22558.3050\n",
              "6             Night   Mandalay              111   33201.8505\n",
              "7             Night  Naypyitaw               88   31823.8725\n",
              "8             Night     Yangon               82   23673.6570"
            ],
            "text/html": [
              "\n",
              "  <div id=\"df-bde0287d-85c9-46e0-9598-51c15710e468\" class=\"colab-df-container\">\n",
              "    <div>\n",
              "<style scoped>\n",
              "    .dataframe tbody tr th:only-of-type {\n",
              "        vertical-align: middle;\n",
              "    }\n",
              "\n",
              "    .dataframe tbody tr th {\n",
              "        vertical-align: top;\n",
              "    }\n",
              "\n",
              "    .dataframe thead th {\n",
              "        text-align: right;\n",
              "    }\n",
              "</style>\n",
              "<table border=\"1\" class=\"dataframe\">\n",
              "  <thead>\n",
              "    <tr style=\"text-align: right;\">\n",
              "      <th></th>\n",
              "      <th>PurchaseTimeLabel</th>\n",
              "      <th>City</th>\n",
              "      <th>Number of Sales</th>\n",
              "      <th>Total Sales</th>\n",
              "    </tr>\n",
              "  </thead>\n",
              "  <tbody>\n",
              "    <tr>\n",
              "      <th>0</th>\n",
              "      <td>Afternoon</td>\n",
              "      <td>Mandalay</td>\n",
              "      <td>162</td>\n",
              "      <td>53648.1645</td>\n",
              "    </tr>\n",
              "    <tr>\n",
              "      <th>1</th>\n",
              "      <td>Afternoon</td>\n",
              "      <td>Naypyitaw</td>\n",
              "      <td>181</td>\n",
              "      <td>58851.9855</td>\n",
              "    </tr>\n",
              "    <tr>\n",
              "      <th>2</th>\n",
              "      <td>Afternoon</td>\n",
              "      <td>Yangon</td>\n",
              "      <td>185</td>\n",
              "      <td>59968.4085</td>\n",
              "    </tr>\n",
              "    <tr>\n",
              "      <th>3</th>\n",
              "      <td>Morning</td>\n",
              "      <td>Mandalay</td>\n",
              "      <td>59</td>\n",
              "      <td>19347.6570</td>\n",
              "    </tr>\n",
              "    <tr>\n",
              "      <th>4</th>\n",
              "      <td>Morning</td>\n",
              "      <td>Naypyitaw</td>\n",
              "      <td>59</td>\n",
              "      <td>19892.8485</td>\n",
              "    </tr>\n",
              "    <tr>\n",
              "      <th>5</th>\n",
              "      <td>Morning</td>\n",
              "      <td>Yangon</td>\n",
              "      <td>73</td>\n",
              "      <td>22558.3050</td>\n",
              "    </tr>\n",
              "    <tr>\n",
              "      <th>6</th>\n",
              "      <td>Night</td>\n",
              "      <td>Mandalay</td>\n",
              "      <td>111</td>\n",
              "      <td>33201.8505</td>\n",
              "    </tr>\n",
              "    <tr>\n",
              "      <th>7</th>\n",
              "      <td>Night</td>\n",
              "      <td>Naypyitaw</td>\n",
              "      <td>88</td>\n",
              "      <td>31823.8725</td>\n",
              "    </tr>\n",
              "    <tr>\n",
              "      <th>8</th>\n",
              "      <td>Night</td>\n",
              "      <td>Yangon</td>\n",
              "      <td>82</td>\n",
              "      <td>23673.6570</td>\n",
              "    </tr>\n",
              "  </tbody>\n",
              "</table>\n",
              "</div>\n",
              "    <div class=\"colab-df-buttons\">\n",
              "\n",
              "  <div class=\"colab-df-container\">\n",
              "    <button class=\"colab-df-convert\" onclick=\"convertToInteractive('df-bde0287d-85c9-46e0-9598-51c15710e468')\"\n",
              "            title=\"Convert this dataframe to an interactive table.\"\n",
              "            style=\"display:none;\">\n",
              "\n",
              "  <svg xmlns=\"http://www.w3.org/2000/svg\" height=\"24px\" viewBox=\"0 -960 960 960\">\n",
              "    <path d=\"M120-120v-720h720v720H120Zm60-500h600v-160H180v160Zm220 220h160v-160H400v160Zm0 220h160v-160H400v160ZM180-400h160v-160H180v160Zm440 0h160v-160H620v160ZM180-180h160v-160H180v160Zm440 0h160v-160H620v160Z\"/>\n",
              "  </svg>\n",
              "    </button>\n",
              "\n",
              "  <style>\n",
              "    .colab-df-container {\n",
              "      display:flex;\n",
              "      gap: 12px;\n",
              "    }\n",
              "\n",
              "    .colab-df-convert {\n",
              "      background-color: #E8F0FE;\n",
              "      border: none;\n",
              "      border-radius: 50%;\n",
              "      cursor: pointer;\n",
              "      display: none;\n",
              "      fill: #1967D2;\n",
              "      height: 32px;\n",
              "      padding: 0 0 0 0;\n",
              "      width: 32px;\n",
              "    }\n",
              "\n",
              "    .colab-df-convert:hover {\n",
              "      background-color: #E2EBFA;\n",
              "      box-shadow: 0px 1px 2px rgba(60, 64, 67, 0.3), 0px 1px 3px 1px rgba(60, 64, 67, 0.15);\n",
              "      fill: #174EA6;\n",
              "    }\n",
              "\n",
              "    .colab-df-buttons div {\n",
              "      margin-bottom: 4px;\n",
              "    }\n",
              "\n",
              "    [theme=dark] .colab-df-convert {\n",
              "      background-color: #3B4455;\n",
              "      fill: #D2E3FC;\n",
              "    }\n",
              "\n",
              "    [theme=dark] .colab-df-convert:hover {\n",
              "      background-color: #434B5C;\n",
              "      box-shadow: 0px 1px 3px 1px rgba(0, 0, 0, 0.15);\n",
              "      filter: drop-shadow(0px 1px 2px rgba(0, 0, 0, 0.3));\n",
              "      fill: #FFFFFF;\n",
              "    }\n",
              "  </style>\n",
              "\n",
              "    <script>\n",
              "      const buttonEl =\n",
              "        document.querySelector('#df-bde0287d-85c9-46e0-9598-51c15710e468 button.colab-df-convert');\n",
              "      buttonEl.style.display =\n",
              "        google.colab.kernel.accessAllowed ? 'block' : 'none';\n",
              "\n",
              "      async function convertToInteractive(key) {\n",
              "        const element = document.querySelector('#df-bde0287d-85c9-46e0-9598-51c15710e468');\n",
              "        const dataTable =\n",
              "          await google.colab.kernel.invokeFunction('convertToInteractive',\n",
              "                                                    [key], {});\n",
              "        if (!dataTable) return;\n",
              "\n",
              "        const docLinkHtml = 'Like what you see? Visit the ' +\n",
              "          '<a target=\"_blank\" href=https://colab.research.google.com/notebooks/data_table.ipynb>data table notebook</a>'\n",
              "          + ' to learn more about interactive tables.';\n",
              "        element.innerHTML = '';\n",
              "        dataTable['output_type'] = 'display_data';\n",
              "        await google.colab.output.renderOutput(dataTable, element);\n",
              "        const docLink = document.createElement('div');\n",
              "        docLink.innerHTML = docLinkHtml;\n",
              "        element.appendChild(docLink);\n",
              "      }\n",
              "    </script>\n",
              "  </div>\n",
              "\n",
              "\n",
              "<div id=\"df-dc1c84dc-c3d2-449a-835b-5030293ac62e\">\n",
              "  <button class=\"colab-df-quickchart\" onclick=\"quickchart('df-dc1c84dc-c3d2-449a-835b-5030293ac62e')\"\n",
              "            title=\"Suggest charts.\"\n",
              "            style=\"display:none;\">\n",
              "\n",
              "<svg xmlns=\"http://www.w3.org/2000/svg\" height=\"24px\"viewBox=\"0 0 24 24\"\n",
              "     width=\"24px\">\n",
              "    <g>\n",
              "        <path d=\"M19 3H5c-1.1 0-2 .9-2 2v14c0 1.1.9 2 2 2h14c1.1 0 2-.9 2-2V5c0-1.1-.9-2-2-2zM9 17H7v-7h2v7zm4 0h-2V7h2v10zm4 0h-2v-4h2v4z\"/>\n",
              "    </g>\n",
              "</svg>\n",
              "  </button>\n",
              "\n",
              "<style>\n",
              "  .colab-df-quickchart {\n",
              "      --bg-color: #E8F0FE;\n",
              "      --fill-color: #1967D2;\n",
              "      --hover-bg-color: #E2EBFA;\n",
              "      --hover-fill-color: #174EA6;\n",
              "      --disabled-fill-color: #AAA;\n",
              "      --disabled-bg-color: #DDD;\n",
              "  }\n",
              "\n",
              "  [theme=dark] .colab-df-quickchart {\n",
              "      --bg-color: #3B4455;\n",
              "      --fill-color: #D2E3FC;\n",
              "      --hover-bg-color: #434B5C;\n",
              "      --hover-fill-color: #FFFFFF;\n",
              "      --disabled-bg-color: #3B4455;\n",
              "      --disabled-fill-color: #666;\n",
              "  }\n",
              "\n",
              "  .colab-df-quickchart {\n",
              "    background-color: var(--bg-color);\n",
              "    border: none;\n",
              "    border-radius: 50%;\n",
              "    cursor: pointer;\n",
              "    display: none;\n",
              "    fill: var(--fill-color);\n",
              "    height: 32px;\n",
              "    padding: 0;\n",
              "    width: 32px;\n",
              "  }\n",
              "\n",
              "  .colab-df-quickchart:hover {\n",
              "    background-color: var(--hover-bg-color);\n",
              "    box-shadow: 0 1px 2px rgba(60, 64, 67, 0.3), 0 1px 3px 1px rgba(60, 64, 67, 0.15);\n",
              "    fill: var(--button-hover-fill-color);\n",
              "  }\n",
              "\n",
              "  .colab-df-quickchart-complete:disabled,\n",
              "  .colab-df-quickchart-complete:disabled:hover {\n",
              "    background-color: var(--disabled-bg-color);\n",
              "    fill: var(--disabled-fill-color);\n",
              "    box-shadow: none;\n",
              "  }\n",
              "\n",
              "  .colab-df-spinner {\n",
              "    border: 2px solid var(--fill-color);\n",
              "    border-color: transparent;\n",
              "    border-bottom-color: var(--fill-color);\n",
              "    animation:\n",
              "      spin 1s steps(1) infinite;\n",
              "  }\n",
              "\n",
              "  @keyframes spin {\n",
              "    0% {\n",
              "      border-color: transparent;\n",
              "      border-bottom-color: var(--fill-color);\n",
              "      border-left-color: var(--fill-color);\n",
              "    }\n",
              "    20% {\n",
              "      border-color: transparent;\n",
              "      border-left-color: var(--fill-color);\n",
              "      border-top-color: var(--fill-color);\n",
              "    }\n",
              "    30% {\n",
              "      border-color: transparent;\n",
              "      border-left-color: var(--fill-color);\n",
              "      border-top-color: var(--fill-color);\n",
              "      border-right-color: var(--fill-color);\n",
              "    }\n",
              "    40% {\n",
              "      border-color: transparent;\n",
              "      border-right-color: var(--fill-color);\n",
              "      border-top-color: var(--fill-color);\n",
              "    }\n",
              "    60% {\n",
              "      border-color: transparent;\n",
              "      border-right-color: var(--fill-color);\n",
              "    }\n",
              "    80% {\n",
              "      border-color: transparent;\n",
              "      border-right-color: var(--fill-color);\n",
              "      border-bottom-color: var(--fill-color);\n",
              "    }\n",
              "    90% {\n",
              "      border-color: transparent;\n",
              "      border-bottom-color: var(--fill-color);\n",
              "    }\n",
              "  }\n",
              "</style>\n",
              "\n",
              "  <script>\n",
              "    async function quickchart(key) {\n",
              "      const quickchartButtonEl =\n",
              "        document.querySelector('#' + key + ' button');\n",
              "      quickchartButtonEl.disabled = true;  // To prevent multiple clicks.\n",
              "      quickchartButtonEl.classList.add('colab-df-spinner');\n",
              "      try {\n",
              "        const charts = await google.colab.kernel.invokeFunction(\n",
              "            'suggestCharts', [key], {});\n",
              "      } catch (error) {\n",
              "        console.error('Error during call to suggestCharts:', error);\n",
              "      }\n",
              "      quickchartButtonEl.classList.remove('colab-df-spinner');\n",
              "      quickchartButtonEl.classList.add('colab-df-quickchart-complete');\n",
              "    }\n",
              "    (() => {\n",
              "      let quickchartButtonEl =\n",
              "        document.querySelector('#df-dc1c84dc-c3d2-449a-835b-5030293ac62e button');\n",
              "      quickchartButtonEl.style.display =\n",
              "        google.colab.kernel.accessAllowed ? 'block' : 'none';\n",
              "    })();\n",
              "  </script>\n",
              "</div>\n",
              "    </div>\n",
              "  </div>\n"
            ]
          },
          "metadata": {},
          "execution_count": 25
        }
      ]
    },
    {
      "cell_type": "code",
      "source": [
        "# Get a copy of Customer type column\n",
        "df['CustomerType'] = df['Customer type']"
      ],
      "metadata": {
        "id": "t7HuYCM9UgM_"
      },
      "execution_count": 26,
      "outputs": []
    },
    {
      "cell_type": "code",
      "source": [
        "# Create a `LabelEncoder` object\n",
        "encoder = LabelEncoder()\n",
        "\n",
        "# Encode CustomerType column\n",
        "\n",
        "# Fit the encoder to the `Unit Price Binned` column\n",
        "encoder.fit(df['CustomerType'])\n",
        "\n",
        "# Transform the `Unit Price Binned` column to numerical values\n",
        "df['CustomerType'] = encoder.transform(df['CustomerType'])"
      ],
      "metadata": {
        "id": "Ybt0RVUBX87t"
      },
      "execution_count": 27,
      "outputs": []
    },
    {
      "cell_type": "code",
      "source": [
        "df['CustomerType'].unique()"
      ],
      "metadata": {
        "colab": {
          "base_uri": "https://localhost:8080/"
        },
        "id": "RlhazzO_YLXg",
        "outputId": "31e67cbf-81d6-4452-aee2-49958f3eae87"
      },
      "execution_count": 28,
      "outputs": [
        {
          "output_type": "execute_result",
          "data": {
            "text/plain": [
              "array([0, 1])"
            ]
          },
          "metadata": {},
          "execution_count": 28
        }
      ]
    },
    {
      "cell_type": "markdown",
      "source": [
        "### One-hot encoding for nominal data"
      ],
      "metadata": {
        "id": "HPlPKcRLZwkN"
      }
    },
    {
      "cell_type": "code",
      "source": [
        "unique_customer_type = df['Customer type'].unique()\n",
        "customer_type_counts = df['Customer type'].value_counts()\n",
        "\n",
        "print(\"\\n Customer type Counts:\")\n",
        "print(customer_type_counts)"
      ],
      "metadata": {
        "colab": {
          "base_uri": "https://localhost:8080/"
        },
        "id": "I2dB0pT8XyTj",
        "outputId": "97343973-cde9-473b-9f80-00b6f52863ec"
      },
      "execution_count": 29,
      "outputs": [
        {
          "output_type": "stream",
          "name": "stdout",
          "text": [
            "\n",
            " Customer type Counts:\n",
            "Member    501\n",
            "Normal    499\n",
            "Name: Customer type, dtype: int64\n"
          ]
        }
      ]
    },
    {
      "cell_type": "code",
      "source": [
        "unique_product_line = df['Product line'].unique()\n",
        "product_line_counts = df['Product line'].value_counts()\n",
        "\n",
        "print(\"\\nProduct line Counts:\")\n",
        "print(product_line_counts)"
      ],
      "metadata": {
        "colab": {
          "base_uri": "https://localhost:8080/"
        },
        "id": "Zr18aUkUZ5Lc",
        "outputId": "5395a4cc-03c5-4877-923e-3cbee12e92d2"
      },
      "execution_count": 30,
      "outputs": [
        {
          "output_type": "stream",
          "name": "stdout",
          "text": [
            "\n",
            "Product line Counts:\n",
            "Fashion accessories       178\n",
            "Food and beverages        174\n",
            "Electronic accessories    170\n",
            "Sports and travel         166\n",
            "Home and lifestyle        160\n",
            "Health and beauty         152\n",
            "Name: Product line, dtype: int64\n"
          ]
        }
      ]
    },
    {
      "cell_type": "code",
      "source": [
        "unique_payment = df['Payment'].unique()\n",
        "payment_counts = df['Payment'].value_counts()\n",
        "\n",
        "print(\"\\n Payment Counts:\")\n",
        "print(payment_counts)"
      ],
      "metadata": {
        "colab": {
          "base_uri": "https://localhost:8080/"
        },
        "id": "b7va_bdSeIvw",
        "outputId": "fa425873-8bba-432d-8e65-9ec7514a4718"
      },
      "execution_count": 31,
      "outputs": [
        {
          "output_type": "stream",
          "name": "stdout",
          "text": [
            "\n",
            " Payment Counts:\n",
            "Ewallet        345\n",
            "Cash           344\n",
            "Credit card    311\n",
            "Name: Payment, dtype: int64\n"
          ]
        }
      ]
    },
    {
      "cell_type": "code",
      "source": [
        "# apply one-hot encoding to the categorical columns\n",
        "df = pd.get_dummies(df)"
      ],
      "metadata": {
        "id": "EdEo1EWu7Kaa"
      },
      "execution_count": 32,
      "outputs": []
    },
    {
      "cell_type": "code",
      "source": [
        "# Rename the columns with shortened names\n",
        "# Replace the original column name with the shortened name\n",
        "df.rename(columns={'Product line_Fashion accessories': 'Product line_Fashion', 'Product line_Food and beverages': 'Product line_Food', 'Product line_Electronic accessories': 'Product line_Electronic', 'Product line_Sports and travel': 'Product line_Sports & travel', 'Product line_Home and lifestyle': 'Product line_Home & lifestyle', 'Product line_Health and beauty': 'Product line_Health & beauty'}, inplace=True)"
      ],
      "metadata": {
        "id": "wT18LyADjcVE"
      },
      "execution_count": 33,
      "outputs": []
    },
    {
      "cell_type": "code",
      "source": [
        "df.head()"
      ],
      "metadata": {
        "colab": {
          "base_uri": "https://localhost:8080/",
          "height": 530
        },
        "id": "_pnXM1Ae4Rrw",
        "outputId": "052591fb-deff-419d-e79d-80d153e12aa7"
      },
      "execution_count": 34,
      "outputs": [
        {
          "output_type": "execute_result",
          "data": {
            "text/plain": [
              "             Unit price  Quantity     Total  Rating            DateTime  \\\n",
              "Invoice ID                                                                \n",
              "750-67-8428       74.69         7  548.9715     9.1 2019-01-05 13:08:00   \n",
              "226-31-3081       15.28         5   80.2200     9.6 2019-03-08 10:29:00   \n",
              "631-41-3108       46.33         7  340.5255     7.4 2019-03-03 13:23:00   \n",
              "123-19-1176       58.22         8  489.0480     8.4 2019-01-27 20:33:00   \n",
              "373-73-7910       86.31         7  634.3785     5.3 2019-02-08 10:37:00   \n",
              "\n",
              "             CustomerType  City_Mandalay  City_Naypyitaw  City_Yangon  \\\n",
              "Invoice ID                                                              \n",
              "750-67-8428             0              0               0            1   \n",
              "226-31-3081             1              0               1            0   \n",
              "631-41-3108             1              0               0            1   \n",
              "123-19-1176             0              0               0            1   \n",
              "373-73-7910             1              0               0            1   \n",
              "\n",
              "             Customer type_Member  ...  Product line_Food  \\\n",
              "Invoice ID                         ...                      \n",
              "750-67-8428                     1  ...                  0   \n",
              "226-31-3081                     0  ...                  0   \n",
              "631-41-3108                     0  ...                  0   \n",
              "123-19-1176                     1  ...                  0   \n",
              "373-73-7910                     0  ...                  0   \n",
              "\n",
              "             Product line_Health & beauty  Product line_Home & lifestyle  \\\n",
              "Invoice ID                                                                 \n",
              "750-67-8428                             1                              0   \n",
              "226-31-3081                             0                              0   \n",
              "631-41-3108                             0                              1   \n",
              "123-19-1176                             1                              0   \n",
              "373-73-7910                             0                              0   \n",
              "\n",
              "             Product line_Sports & travel  Payment_Cash  Payment_Credit card  \\\n",
              "Invoice ID                                                                     \n",
              "750-67-8428                             0             0                    0   \n",
              "226-31-3081                             0             1                    0   \n",
              "631-41-3108                             0             0                    1   \n",
              "123-19-1176                             0             0                    0   \n",
              "373-73-7910                             1             0                    0   \n",
              "\n",
              "             Payment_Ewallet  PurchaseTimeLabel_Afternoon  \\\n",
              "Invoice ID                                                  \n",
              "750-67-8428                1                            1   \n",
              "226-31-3081                0                            0   \n",
              "631-41-3108                0                            1   \n",
              "123-19-1176                1                            0   \n",
              "373-73-7910                1                            0   \n",
              "\n",
              "             PurchaseTimeLabel_Morning  PurchaseTimeLabel_Night  \n",
              "Invoice ID                                                       \n",
              "750-67-8428                          0                        0  \n",
              "226-31-3081                          1                        0  \n",
              "631-41-3108                          0                        0  \n",
              "123-19-1176                          0                        1  \n",
              "373-73-7910                          1                        0  \n",
              "\n",
              "[5 rows x 25 columns]"
            ],
            "text/html": [
              "\n",
              "  <div id=\"df-0aa7d34b-95c7-4d68-b4de-dcb874dd9cee\" class=\"colab-df-container\">\n",
              "    <div>\n",
              "<style scoped>\n",
              "    .dataframe tbody tr th:only-of-type {\n",
              "        vertical-align: middle;\n",
              "    }\n",
              "\n",
              "    .dataframe tbody tr th {\n",
              "        vertical-align: top;\n",
              "    }\n",
              "\n",
              "    .dataframe thead th {\n",
              "        text-align: right;\n",
              "    }\n",
              "</style>\n",
              "<table border=\"1\" class=\"dataframe\">\n",
              "  <thead>\n",
              "    <tr style=\"text-align: right;\">\n",
              "      <th></th>\n",
              "      <th>Unit price</th>\n",
              "      <th>Quantity</th>\n",
              "      <th>Total</th>\n",
              "      <th>Rating</th>\n",
              "      <th>DateTime</th>\n",
              "      <th>CustomerType</th>\n",
              "      <th>City_Mandalay</th>\n",
              "      <th>City_Naypyitaw</th>\n",
              "      <th>City_Yangon</th>\n",
              "      <th>Customer type_Member</th>\n",
              "      <th>...</th>\n",
              "      <th>Product line_Food</th>\n",
              "      <th>Product line_Health &amp; beauty</th>\n",
              "      <th>Product line_Home &amp; lifestyle</th>\n",
              "      <th>Product line_Sports &amp; travel</th>\n",
              "      <th>Payment_Cash</th>\n",
              "      <th>Payment_Credit card</th>\n",
              "      <th>Payment_Ewallet</th>\n",
              "      <th>PurchaseTimeLabel_Afternoon</th>\n",
              "      <th>PurchaseTimeLabel_Morning</th>\n",
              "      <th>PurchaseTimeLabel_Night</th>\n",
              "    </tr>\n",
              "    <tr>\n",
              "      <th>Invoice ID</th>\n",
              "      <th></th>\n",
              "      <th></th>\n",
              "      <th></th>\n",
              "      <th></th>\n",
              "      <th></th>\n",
              "      <th></th>\n",
              "      <th></th>\n",
              "      <th></th>\n",
              "      <th></th>\n",
              "      <th></th>\n",
              "      <th></th>\n",
              "      <th></th>\n",
              "      <th></th>\n",
              "      <th></th>\n",
              "      <th></th>\n",
              "      <th></th>\n",
              "      <th></th>\n",
              "      <th></th>\n",
              "      <th></th>\n",
              "      <th></th>\n",
              "      <th></th>\n",
              "    </tr>\n",
              "  </thead>\n",
              "  <tbody>\n",
              "    <tr>\n",
              "      <th>750-67-8428</th>\n",
              "      <td>74.69</td>\n",
              "      <td>7</td>\n",
              "      <td>548.9715</td>\n",
              "      <td>9.1</td>\n",
              "      <td>2019-01-05 13:08:00</td>\n",
              "      <td>0</td>\n",
              "      <td>0</td>\n",
              "      <td>0</td>\n",
              "      <td>1</td>\n",
              "      <td>1</td>\n",
              "      <td>...</td>\n",
              "      <td>0</td>\n",
              "      <td>1</td>\n",
              "      <td>0</td>\n",
              "      <td>0</td>\n",
              "      <td>0</td>\n",
              "      <td>0</td>\n",
              "      <td>1</td>\n",
              "      <td>1</td>\n",
              "      <td>0</td>\n",
              "      <td>0</td>\n",
              "    </tr>\n",
              "    <tr>\n",
              "      <th>226-31-3081</th>\n",
              "      <td>15.28</td>\n",
              "      <td>5</td>\n",
              "      <td>80.2200</td>\n",
              "      <td>9.6</td>\n",
              "      <td>2019-03-08 10:29:00</td>\n",
              "      <td>1</td>\n",
              "      <td>0</td>\n",
              "      <td>1</td>\n",
              "      <td>0</td>\n",
              "      <td>0</td>\n",
              "      <td>...</td>\n",
              "      <td>0</td>\n",
              "      <td>0</td>\n",
              "      <td>0</td>\n",
              "      <td>0</td>\n",
              "      <td>1</td>\n",
              "      <td>0</td>\n",
              "      <td>0</td>\n",
              "      <td>0</td>\n",
              "      <td>1</td>\n",
              "      <td>0</td>\n",
              "    </tr>\n",
              "    <tr>\n",
              "      <th>631-41-3108</th>\n",
              "      <td>46.33</td>\n",
              "      <td>7</td>\n",
              "      <td>340.5255</td>\n",
              "      <td>7.4</td>\n",
              "      <td>2019-03-03 13:23:00</td>\n",
              "      <td>1</td>\n",
              "      <td>0</td>\n",
              "      <td>0</td>\n",
              "      <td>1</td>\n",
              "      <td>0</td>\n",
              "      <td>...</td>\n",
              "      <td>0</td>\n",
              "      <td>0</td>\n",
              "      <td>1</td>\n",
              "      <td>0</td>\n",
              "      <td>0</td>\n",
              "      <td>1</td>\n",
              "      <td>0</td>\n",
              "      <td>1</td>\n",
              "      <td>0</td>\n",
              "      <td>0</td>\n",
              "    </tr>\n",
              "    <tr>\n",
              "      <th>123-19-1176</th>\n",
              "      <td>58.22</td>\n",
              "      <td>8</td>\n",
              "      <td>489.0480</td>\n",
              "      <td>8.4</td>\n",
              "      <td>2019-01-27 20:33:00</td>\n",
              "      <td>0</td>\n",
              "      <td>0</td>\n",
              "      <td>0</td>\n",
              "      <td>1</td>\n",
              "      <td>1</td>\n",
              "      <td>...</td>\n",
              "      <td>0</td>\n",
              "      <td>1</td>\n",
              "      <td>0</td>\n",
              "      <td>0</td>\n",
              "      <td>0</td>\n",
              "      <td>0</td>\n",
              "      <td>1</td>\n",
              "      <td>0</td>\n",
              "      <td>0</td>\n",
              "      <td>1</td>\n",
              "    </tr>\n",
              "    <tr>\n",
              "      <th>373-73-7910</th>\n",
              "      <td>86.31</td>\n",
              "      <td>7</td>\n",
              "      <td>634.3785</td>\n",
              "      <td>5.3</td>\n",
              "      <td>2019-02-08 10:37:00</td>\n",
              "      <td>1</td>\n",
              "      <td>0</td>\n",
              "      <td>0</td>\n",
              "      <td>1</td>\n",
              "      <td>0</td>\n",
              "      <td>...</td>\n",
              "      <td>0</td>\n",
              "      <td>0</td>\n",
              "      <td>0</td>\n",
              "      <td>1</td>\n",
              "      <td>0</td>\n",
              "      <td>0</td>\n",
              "      <td>1</td>\n",
              "      <td>0</td>\n",
              "      <td>1</td>\n",
              "      <td>0</td>\n",
              "    </tr>\n",
              "  </tbody>\n",
              "</table>\n",
              "<p>5 rows × 25 columns</p>\n",
              "</div>\n",
              "    <div class=\"colab-df-buttons\">\n",
              "\n",
              "  <div class=\"colab-df-container\">\n",
              "    <button class=\"colab-df-convert\" onclick=\"convertToInteractive('df-0aa7d34b-95c7-4d68-b4de-dcb874dd9cee')\"\n",
              "            title=\"Convert this dataframe to an interactive table.\"\n",
              "            style=\"display:none;\">\n",
              "\n",
              "  <svg xmlns=\"http://www.w3.org/2000/svg\" height=\"24px\" viewBox=\"0 -960 960 960\">\n",
              "    <path d=\"M120-120v-720h720v720H120Zm60-500h600v-160H180v160Zm220 220h160v-160H400v160Zm0 220h160v-160H400v160ZM180-400h160v-160H180v160Zm440 0h160v-160H620v160ZM180-180h160v-160H180v160Zm440 0h160v-160H620v160Z\"/>\n",
              "  </svg>\n",
              "    </button>\n",
              "\n",
              "  <style>\n",
              "    .colab-df-container {\n",
              "      display:flex;\n",
              "      gap: 12px;\n",
              "    }\n",
              "\n",
              "    .colab-df-convert {\n",
              "      background-color: #E8F0FE;\n",
              "      border: none;\n",
              "      border-radius: 50%;\n",
              "      cursor: pointer;\n",
              "      display: none;\n",
              "      fill: #1967D2;\n",
              "      height: 32px;\n",
              "      padding: 0 0 0 0;\n",
              "      width: 32px;\n",
              "    }\n",
              "\n",
              "    .colab-df-convert:hover {\n",
              "      background-color: #E2EBFA;\n",
              "      box-shadow: 0px 1px 2px rgba(60, 64, 67, 0.3), 0px 1px 3px 1px rgba(60, 64, 67, 0.15);\n",
              "      fill: #174EA6;\n",
              "    }\n",
              "\n",
              "    .colab-df-buttons div {\n",
              "      margin-bottom: 4px;\n",
              "    }\n",
              "\n",
              "    [theme=dark] .colab-df-convert {\n",
              "      background-color: #3B4455;\n",
              "      fill: #D2E3FC;\n",
              "    }\n",
              "\n",
              "    [theme=dark] .colab-df-convert:hover {\n",
              "      background-color: #434B5C;\n",
              "      box-shadow: 0px 1px 3px 1px rgba(0, 0, 0, 0.15);\n",
              "      filter: drop-shadow(0px 1px 2px rgba(0, 0, 0, 0.3));\n",
              "      fill: #FFFFFF;\n",
              "    }\n",
              "  </style>\n",
              "\n",
              "    <script>\n",
              "      const buttonEl =\n",
              "        document.querySelector('#df-0aa7d34b-95c7-4d68-b4de-dcb874dd9cee button.colab-df-convert');\n",
              "      buttonEl.style.display =\n",
              "        google.colab.kernel.accessAllowed ? 'block' : 'none';\n",
              "\n",
              "      async function convertToInteractive(key) {\n",
              "        const element = document.querySelector('#df-0aa7d34b-95c7-4d68-b4de-dcb874dd9cee');\n",
              "        const dataTable =\n",
              "          await google.colab.kernel.invokeFunction('convertToInteractive',\n",
              "                                                    [key], {});\n",
              "        if (!dataTable) return;\n",
              "\n",
              "        const docLinkHtml = 'Like what you see? Visit the ' +\n",
              "          '<a target=\"_blank\" href=https://colab.research.google.com/notebooks/data_table.ipynb>data table notebook</a>'\n",
              "          + ' to learn more about interactive tables.';\n",
              "        element.innerHTML = '';\n",
              "        dataTable['output_type'] = 'display_data';\n",
              "        await google.colab.output.renderOutput(dataTable, element);\n",
              "        const docLink = document.createElement('div');\n",
              "        docLink.innerHTML = docLinkHtml;\n",
              "        element.appendChild(docLink);\n",
              "      }\n",
              "    </script>\n",
              "  </div>\n",
              "\n",
              "\n",
              "<div id=\"df-a3759bf9-4f7a-4317-8e79-fd97163fb82b\">\n",
              "  <button class=\"colab-df-quickchart\" onclick=\"quickchart('df-a3759bf9-4f7a-4317-8e79-fd97163fb82b')\"\n",
              "            title=\"Suggest charts.\"\n",
              "            style=\"display:none;\">\n",
              "\n",
              "<svg xmlns=\"http://www.w3.org/2000/svg\" height=\"24px\"viewBox=\"0 0 24 24\"\n",
              "     width=\"24px\">\n",
              "    <g>\n",
              "        <path d=\"M19 3H5c-1.1 0-2 .9-2 2v14c0 1.1.9 2 2 2h14c1.1 0 2-.9 2-2V5c0-1.1-.9-2-2-2zM9 17H7v-7h2v7zm4 0h-2V7h2v10zm4 0h-2v-4h2v4z\"/>\n",
              "    </g>\n",
              "</svg>\n",
              "  </button>\n",
              "\n",
              "<style>\n",
              "  .colab-df-quickchart {\n",
              "      --bg-color: #E8F0FE;\n",
              "      --fill-color: #1967D2;\n",
              "      --hover-bg-color: #E2EBFA;\n",
              "      --hover-fill-color: #174EA6;\n",
              "      --disabled-fill-color: #AAA;\n",
              "      --disabled-bg-color: #DDD;\n",
              "  }\n",
              "\n",
              "  [theme=dark] .colab-df-quickchart {\n",
              "      --bg-color: #3B4455;\n",
              "      --fill-color: #D2E3FC;\n",
              "      --hover-bg-color: #434B5C;\n",
              "      --hover-fill-color: #FFFFFF;\n",
              "      --disabled-bg-color: #3B4455;\n",
              "      --disabled-fill-color: #666;\n",
              "  }\n",
              "\n",
              "  .colab-df-quickchart {\n",
              "    background-color: var(--bg-color);\n",
              "    border: none;\n",
              "    border-radius: 50%;\n",
              "    cursor: pointer;\n",
              "    display: none;\n",
              "    fill: var(--fill-color);\n",
              "    height: 32px;\n",
              "    padding: 0;\n",
              "    width: 32px;\n",
              "  }\n",
              "\n",
              "  .colab-df-quickchart:hover {\n",
              "    background-color: var(--hover-bg-color);\n",
              "    box-shadow: 0 1px 2px rgba(60, 64, 67, 0.3), 0 1px 3px 1px rgba(60, 64, 67, 0.15);\n",
              "    fill: var(--button-hover-fill-color);\n",
              "  }\n",
              "\n",
              "  .colab-df-quickchart-complete:disabled,\n",
              "  .colab-df-quickchart-complete:disabled:hover {\n",
              "    background-color: var(--disabled-bg-color);\n",
              "    fill: var(--disabled-fill-color);\n",
              "    box-shadow: none;\n",
              "  }\n",
              "\n",
              "  .colab-df-spinner {\n",
              "    border: 2px solid var(--fill-color);\n",
              "    border-color: transparent;\n",
              "    border-bottom-color: var(--fill-color);\n",
              "    animation:\n",
              "      spin 1s steps(1) infinite;\n",
              "  }\n",
              "\n",
              "  @keyframes spin {\n",
              "    0% {\n",
              "      border-color: transparent;\n",
              "      border-bottom-color: var(--fill-color);\n",
              "      border-left-color: var(--fill-color);\n",
              "    }\n",
              "    20% {\n",
              "      border-color: transparent;\n",
              "      border-left-color: var(--fill-color);\n",
              "      border-top-color: var(--fill-color);\n",
              "    }\n",
              "    30% {\n",
              "      border-color: transparent;\n",
              "      border-left-color: var(--fill-color);\n",
              "      border-top-color: var(--fill-color);\n",
              "      border-right-color: var(--fill-color);\n",
              "    }\n",
              "    40% {\n",
              "      border-color: transparent;\n",
              "      border-right-color: var(--fill-color);\n",
              "      border-top-color: var(--fill-color);\n",
              "    }\n",
              "    60% {\n",
              "      border-color: transparent;\n",
              "      border-right-color: var(--fill-color);\n",
              "    }\n",
              "    80% {\n",
              "      border-color: transparent;\n",
              "      border-right-color: var(--fill-color);\n",
              "      border-bottom-color: var(--fill-color);\n",
              "    }\n",
              "    90% {\n",
              "      border-color: transparent;\n",
              "      border-bottom-color: var(--fill-color);\n",
              "    }\n",
              "  }\n",
              "</style>\n",
              "\n",
              "  <script>\n",
              "    async function quickchart(key) {\n",
              "      const quickchartButtonEl =\n",
              "        document.querySelector('#' + key + ' button');\n",
              "      quickchartButtonEl.disabled = true;  // To prevent multiple clicks.\n",
              "      quickchartButtonEl.classList.add('colab-df-spinner');\n",
              "      try {\n",
              "        const charts = await google.colab.kernel.invokeFunction(\n",
              "            'suggestCharts', [key], {});\n",
              "      } catch (error) {\n",
              "        console.error('Error during call to suggestCharts:', error);\n",
              "      }\n",
              "      quickchartButtonEl.classList.remove('colab-df-spinner');\n",
              "      quickchartButtonEl.classList.add('colab-df-quickchart-complete');\n",
              "    }\n",
              "    (() => {\n",
              "      let quickchartButtonEl =\n",
              "        document.querySelector('#df-a3759bf9-4f7a-4317-8e79-fd97163fb82b button');\n",
              "      quickchartButtonEl.style.display =\n",
              "        google.colab.kernel.accessAllowed ? 'block' : 'none';\n",
              "    })();\n",
              "  </script>\n",
              "</div>\n",
              "    </div>\n",
              "  </div>\n"
            ]
          },
          "metadata": {},
          "execution_count": 34
        }
      ]
    },
    {
      "cell_type": "markdown",
      "source": [
        "### Discretization and integer coding for unit price"
      ],
      "metadata": {
        "id": "3GjFSCmiaGNg"
      }
    },
    {
      "cell_type": "code",
      "source": [
        "unique_unit_price = df['Unit price'].unique()\n",
        "unit_price_counts = df['Unit price'].value_counts()\n",
        "\n",
        "print(\"\\n Unit price Counts:\")\n",
        "unit_price_counts"
      ],
      "metadata": {
        "id": "aW8rjkBH_DsI",
        "colab": {
          "base_uri": "https://localhost:8080/"
        },
        "outputId": "482050c8-1435-42e1-8d28-f8dddca1bea4"
      },
      "execution_count": 35,
      "outputs": [
        {
          "output_type": "stream",
          "name": "stdout",
          "text": [
            "\n",
            " Unit price Counts:\n"
          ]
        },
        {
          "output_type": "execute_result",
          "data": {
            "text/plain": [
              "83.77    3\n",
              "39.62    2\n",
              "24.74    2\n",
              "19.15    2\n",
              "73.47    2\n",
              "        ..\n",
              "57.95    1\n",
              "47.65    1\n",
              "42.82    1\n",
              "48.09    1\n",
              "88.34    1\n",
              "Name: Unit price, Length: 943, dtype: int64"
            ]
          },
          "metadata": {},
          "execution_count": 35
        }
      ]
    },
    {
      "cell_type": "code",
      "source": [
        "# Define the number of bins and their boundaries\n",
        "num_bins = 9\n",
        "bin_boundaries = [10, 20, 30, 40, 50, 60, 70, 80, 90, 100]  # Define your bin boundaries as needed\n",
        "\n",
        "# Define bin labels\n",
        "bin_labels = [f\"{bin_boundaries[i]}-{bin_boundaries[i+1]}\" for i in range(len(bin_boundaries)-1)]\n",
        "\n",
        "# Perform equal width binning and assign labels\n",
        "df['Unit Price Binned'] = pd.cut(df['Unit price'], bins=bin_boundaries, labels=bin_labels)"
      ],
      "metadata": {
        "id": "_vil1qU6AZuD"
      },
      "execution_count": 36,
      "outputs": []
    },
    {
      "cell_type": "code",
      "source": [
        "# Define the number of bins and their boundaries\n",
        "num_bins = 9\n",
        "bin_boundaries = [10, 20, 30, 40, 50, 60, 70, 80, 90, 100]  # Define your bin boundaries as needed\n",
        "\n",
        "# Perform equal width binning\n",
        "df['Unit Price_coded'] = pd.cut(df['Unit price'], bins=bin_boundaries, labels=False)"
      ],
      "metadata": {
        "id": "r3C4mG3xC5yG"
      },
      "execution_count": 37,
      "outputs": []
    },
    {
      "cell_type": "code",
      "source": [
        "unique_unit_price_coded = df['Unit Price_coded'].unique()\n",
        "unit_price_coded_counts = df['Unit Price_coded'].value_counts()\n",
        "\n",
        "print(\"\\n Unit price Counts:\")\n",
        "unit_price_coded_counts"
      ],
      "metadata": {
        "colab": {
          "base_uri": "https://localhost:8080/"
        },
        "id": "FCrqEDUxH2IC",
        "outputId": "2f5a7554-1386-445d-8bb8-7a262990d734"
      },
      "execution_count": 38,
      "outputs": [
        {
          "output_type": "stream",
          "name": "stdout",
          "text": [
            "\n",
            " Unit price Counts:\n"
          ]
        },
        {
          "output_type": "execute_result",
          "data": {
            "text/plain": [
              "8    127\n",
              "6    120\n",
              "1    118\n",
              "4    108\n",
              "2    108\n",
              "3    107\n",
              "0    106\n",
              "7    105\n",
              "5    101\n",
              "Name: Unit Price_coded, dtype: int64"
            ]
          },
          "metadata": {},
          "execution_count": 38
        }
      ]
    },
    {
      "cell_type": "code",
      "source": [
        "df = df.drop(['Unit price'], axis=1) #Since we discritize it"
      ],
      "metadata": {
        "id": "eoYkpNVEDdDD"
      },
      "execution_count": 39,
      "outputs": []
    },
    {
      "cell_type": "code",
      "source": [
        "df.info()"
      ],
      "metadata": {
        "colab": {
          "base_uri": "https://localhost:8080/"
        },
        "id": "zxGTaKqoVYZc",
        "outputId": "a6a93e4e-a850-4991-96ba-394e5fb1f916"
      },
      "execution_count": 40,
      "outputs": [
        {
          "output_type": "stream",
          "name": "stdout",
          "text": [
            "<class 'pandas.core.frame.DataFrame'>\n",
            "Index: 1000 entries, 750-67-8428 to 849-09-3807\n",
            "Data columns (total 26 columns):\n",
            " #   Column                         Non-Null Count  Dtype         \n",
            "---  ------                         --------------  -----         \n",
            " 0   Quantity                       1000 non-null   int64         \n",
            " 1   Total                          1000 non-null   float64       \n",
            " 2   Rating                         1000 non-null   float64       \n",
            " 3   DateTime                       1000 non-null   datetime64[ns]\n",
            " 4   CustomerType                   1000 non-null   int64         \n",
            " 5   City_Mandalay                  1000 non-null   uint8         \n",
            " 6   City_Naypyitaw                 1000 non-null   uint8         \n",
            " 7   City_Yangon                    1000 non-null   uint8         \n",
            " 8   Customer type_Member           1000 non-null   uint8         \n",
            " 9   Customer type_Normal           1000 non-null   uint8         \n",
            " 10  Gender_Female                  1000 non-null   uint8         \n",
            " 11  Gender_Male                    1000 non-null   uint8         \n",
            " 12  Product line_Electronic        1000 non-null   uint8         \n",
            " 13  Product line_Fashion           1000 non-null   uint8         \n",
            " 14  Product line_Food              1000 non-null   uint8         \n",
            " 15  Product line_Health & beauty   1000 non-null   uint8         \n",
            " 16  Product line_Home & lifestyle  1000 non-null   uint8         \n",
            " 17  Product line_Sports & travel   1000 non-null   uint8         \n",
            " 18  Payment_Cash                   1000 non-null   uint8         \n",
            " 19  Payment_Credit card            1000 non-null   uint8         \n",
            " 20  Payment_Ewallet                1000 non-null   uint8         \n",
            " 21  PurchaseTimeLabel_Afternoon    1000 non-null   uint8         \n",
            " 22  PurchaseTimeLabel_Morning      1000 non-null   uint8         \n",
            " 23  PurchaseTimeLabel_Night        1000 non-null   uint8         \n",
            " 24  Unit Price Binned              1000 non-null   category      \n",
            " 25  Unit Price_coded               1000 non-null   int64         \n",
            "dtypes: category(1), datetime64[ns](1), float64(2), int64(3), uint8(19)\n",
            "memory usage: 74.6+ KB\n"
          ]
        }
      ]
    },
    {
      "cell_type": "markdown",
      "source": [
        "### Min-Max Normalization"
      ],
      "metadata": {
        "id": "1DUqR0zzct9R"
      }
    },
    {
      "cell_type": "code",
      "source": [
        "# Initialize the MinMaxScaler\n",
        "scaler = MinMaxScaler()\n",
        "\n",
        "# Fit and transform the selected column\n",
        "df['Quantity'] = scaler.fit_transform(df[['Quantity']])\n",
        "df['Unit Price_coded'] = scaler.fit_transform(df[['Unit Price_coded']])"
      ],
      "metadata": {
        "id": "j2e61tiq1mOj"
      },
      "execution_count": 41,
      "outputs": []
    },
    {
      "cell_type": "markdown",
      "source": [
        "# Customer Segmentation"
      ],
      "metadata": {
        "id": "q76RrElpM5Sx"
      }
    },
    {
      "cell_type": "markdown",
      "source": [
        "## Segmentation 1"
      ],
      "metadata": {
        "id": "CfZcpVrsSTlZ"
      }
    },
    {
      "cell_type": "code",
      "source": [
        "# create a new DataFrame with only the relevant columns\n",
        "df_clustering1 = df[['Customer type_Member', 'Customer type_Normal', 'Gender_Female', 'Gender_Male', 'Total']]"
      ],
      "metadata": {
        "id": "v0S4g7LiSbJU"
      },
      "execution_count": 42,
      "outputs": []
    },
    {
      "cell_type": "code",
      "source": [
        "# Create an empty list to store the WCSS values\n",
        "wcss = []\n",
        "\n",
        "# Define a range of K values to test\n",
        "k_values = range(1, 11)  # You can adjust the range as needed\n",
        "\n",
        "# Calculate WCSS for each K value\n",
        "for k in k_values:\n",
        "    kmeans = KMeans(n_clusters=k)\n",
        "    kmeans.fit(df_clustering1)\n",
        "    wcss.append(kmeans.inertia_)\n",
        "\n",
        "# Plot the WCSS values\n",
        "plt.figure(figsize=(8, 6))\n",
        "plt.plot(k_values, wcss, marker='o', linestyle='-')\n",
        "plt.title('Elbow Method for Optimal K')\n",
        "plt.xlabel('Number of Clusters (K)')\n",
        "plt.ylabel('WCSS')\n",
        "plt.grid(True)\n",
        "plt.show()"
      ],
      "metadata": {
        "colab": {
          "base_uri": "https://localhost:8080/",
          "height": 920
        },
        "id": "40LJCrK4TjQi",
        "outputId": "eb921299-a2ad-4fd4-d0ee-7e66c7f6c2f6"
      },
      "execution_count": 43,
      "outputs": [
        {
          "output_type": "stream",
          "name": "stderr",
          "text": [
            "/usr/local/lib/python3.10/dist-packages/sklearn/cluster/_kmeans.py:870: FutureWarning: The default value of `n_init` will change from 10 to 'auto' in 1.4. Set the value of `n_init` explicitly to suppress the warning\n",
            "  warnings.warn(\n",
            "/usr/local/lib/python3.10/dist-packages/sklearn/cluster/_kmeans.py:870: FutureWarning: The default value of `n_init` will change from 10 to 'auto' in 1.4. Set the value of `n_init` explicitly to suppress the warning\n",
            "  warnings.warn(\n",
            "/usr/local/lib/python3.10/dist-packages/sklearn/cluster/_kmeans.py:870: FutureWarning: The default value of `n_init` will change from 10 to 'auto' in 1.4. Set the value of `n_init` explicitly to suppress the warning\n",
            "  warnings.warn(\n",
            "/usr/local/lib/python3.10/dist-packages/sklearn/cluster/_kmeans.py:870: FutureWarning: The default value of `n_init` will change from 10 to 'auto' in 1.4. Set the value of `n_init` explicitly to suppress the warning\n",
            "  warnings.warn(\n",
            "/usr/local/lib/python3.10/dist-packages/sklearn/cluster/_kmeans.py:870: FutureWarning: The default value of `n_init` will change from 10 to 'auto' in 1.4. Set the value of `n_init` explicitly to suppress the warning\n",
            "  warnings.warn(\n",
            "/usr/local/lib/python3.10/dist-packages/sklearn/cluster/_kmeans.py:870: FutureWarning: The default value of `n_init` will change from 10 to 'auto' in 1.4. Set the value of `n_init` explicitly to suppress the warning\n",
            "  warnings.warn(\n",
            "/usr/local/lib/python3.10/dist-packages/sklearn/cluster/_kmeans.py:870: FutureWarning: The default value of `n_init` will change from 10 to 'auto' in 1.4. Set the value of `n_init` explicitly to suppress the warning\n",
            "  warnings.warn(\n",
            "/usr/local/lib/python3.10/dist-packages/sklearn/cluster/_kmeans.py:870: FutureWarning: The default value of `n_init` will change from 10 to 'auto' in 1.4. Set the value of `n_init` explicitly to suppress the warning\n",
            "  warnings.warn(\n",
            "/usr/local/lib/python3.10/dist-packages/sklearn/cluster/_kmeans.py:870: FutureWarning: The default value of `n_init` will change from 10 to 'auto' in 1.4. Set the value of `n_init` explicitly to suppress the warning\n",
            "  warnings.warn(\n",
            "/usr/local/lib/python3.10/dist-packages/sklearn/cluster/_kmeans.py:870: FutureWarning: The default value of `n_init` will change from 10 to 'auto' in 1.4. Set the value of `n_init` explicitly to suppress the warning\n",
            "  warnings.warn(\n"
          ]
        },
        {
          "output_type": "display_data",
          "data": {
            "text/plain": [
              "<Figure size 800x600 with 1 Axes>"
            ],
            "image/png": "[encoded data removed]"
          },
          "metadata": {}
        }
      ]
    },
    {
      "cell_type": "code",
      "source": [
        "# initialize the K-Means model with 3 clusters\n",
        "kmeans = KMeans(n_clusters=3)\n",
        "\n",
        "# fit the model to the data\n",
        "kmeans.fit(df_clustering1)\n",
        "\n",
        "# predict the clusters for each data point\n",
        "predicted_clusters = kmeans.predict(df_clustering1)\n",
        "\n",
        "# add the predicted clusters as a new column to the DataFrame\n",
        "df_clustering1['Segment'] = predicted_clusters\n",
        "\n",
        "# group the data by segment and calculate the average total amount spent by each segment\n",
        "df_segment_sales = df_clustering1.groupby('Segment')['Total'].mean()\n",
        "print(df_segment_sales)"
      ],
      "metadata": {
        "colab": {
          "base_uri": "https://localhost:8080/"
        },
        "id": "Iza-dlr1YOUh",
        "outputId": "86d82f4e-bac7-4238-d403-7b4eb0ab2e98"
      },
      "execution_count": 44,
      "outputs": [
        {
          "output_type": "stream",
          "name": "stdout",
          "text": [
            "Segment\n",
            "0    132.628777\n",
            "1    759.660586\n",
            "2    403.044149\n",
            "Name: Total, dtype: float64\n"
          ]
        },
        {
          "output_type": "stream",
          "name": "stderr",
          "text": [
            "/usr/local/lib/python3.10/dist-packages/sklearn/cluster/_kmeans.py:870: FutureWarning: The default value of `n_init` will change from 10 to 'auto' in 1.4. Set the value of `n_init` explicitly to suppress the warning\n",
            "  warnings.warn(\n",
            "<ipython-input-44-a522ac898365>:11: SettingWithCopyWarning: \n",
            "A value is trying to be set on a copy of a slice from a DataFrame.\n",
            "Try using .loc[row_indexer,col_indexer] = value instead\n",
            "\n",
            "See the caveats in the documentation: https://pandas.pydata.org/pandas-docs/stable/user_guide/indexing.html#returning-a-view-versus-a-copy\n",
            "  df_clustering1['Segment'] = predicted_clusters\n"
          ]
        }
      ]
    },
    {
      "cell_type": "code",
      "source": [
        "# group the data by segment and customer type\n",
        "\n",
        "df_segment_type = df_clustering1.groupby(['Segment', 'Customer type_Member', 'Customer type_Normal']).size()\n",
        "print(df_segment_type)"
      ],
      "metadata": {
        "colab": {
          "base_uri": "https://localhost:8080/"
        },
        "id": "IzA6lIyjbWRh",
        "outputId": "c19cdb89-62ad-4bc2-9873-1e37e2be05d4"
      },
      "execution_count": 45,
      "outputs": [
        {
          "output_type": "stream",
          "name": "stdout",
          "text": [
            "Segment  Customer type_Member  Customer type_Normal\n",
            "0        0                     1                       267\n",
            "         1                     0                       252\n",
            "1        0                     1                        82\n",
            "         1                     0                        87\n",
            "2        0                     1                       150\n",
            "         1                     0                       162\n",
            "dtype: int64\n"
          ]
        }
      ]
    },
    {
      "cell_type": "code",
      "source": [
        "# group the data by segment and customer type\n",
        "\n",
        "df_segment_type = df_clustering1.groupby(['Segment', 'Customer type_Member', 'Customer type_Normal','Gender_Female', 'Gender_Male']).size()\n",
        "print(df_segment_type)"
      ],
      "metadata": {
        "colab": {
          "base_uri": "https://localhost:8080/"
        },
        "id": "dcrzjV0GbgqD",
        "outputId": "4f3c1239-38bd-4403-c0f1-dad9c8c695ab"
      },
      "execution_count": 46,
      "outputs": [
        {
          "output_type": "stream",
          "name": "stdout",
          "text": [
            "Segment  Customer type_Member  Customer type_Normal  Gender_Female  Gender_Male\n",
            "0        0                     1                     0              1              152\n",
            "                                                     1              0              115\n",
            "         1                     0                     0              1              120\n",
            "                                                     1              0              132\n",
            "1        0                     1                     0              1               44\n",
            "                                                     1              0               38\n",
            "         1                     0                     0              1               39\n",
            "                                                     1              0               48\n",
            "2        0                     1                     0              1               63\n",
            "                                                     1              0               87\n",
            "         1                     0                     0              1               81\n",
            "                                                     1              0               81\n",
            "dtype: int64\n"
          ]
        }
      ]
    },
    {
      "cell_type": "markdown",
      "source": [
        "## Segmentation 2"
      ],
      "metadata": {
        "id": "pVhR0eNWb0NR"
      }
    },
    {
      "cell_type": "code",
      "source": [
        "df.info()"
      ],
      "metadata": {
        "colab": {
          "base_uri": "https://localhost:8080/"
        },
        "id": "FOOED1NXNB9u",
        "outputId": "14a5f2b0-6bb7-4611-c1eb-fe6cbf85ca7e"
      },
      "execution_count": 47,
      "outputs": [
        {
          "output_type": "stream",
          "name": "stdout",
          "text": [
            "<class 'pandas.core.frame.DataFrame'>\n",
            "Index: 1000 entries, 750-67-8428 to 849-09-3807\n",
            "Data columns (total 26 columns):\n",
            " #   Column                         Non-Null Count  Dtype         \n",
            "---  ------                         --------------  -----         \n",
            " 0   Quantity                       1000 non-null   float64       \n",
            " 1   Total                          1000 non-null   float64       \n",
            " 2   Rating                         1000 non-null   float64       \n",
            " 3   DateTime                       1000 non-null   datetime64[ns]\n",
            " 4   CustomerType                   1000 non-null   int64         \n",
            " 5   City_Mandalay                  1000 non-null   uint8         \n",
            " 6   City_Naypyitaw                 1000 non-null   uint8         \n",
            " 7   City_Yangon                    1000 non-null   uint8         \n",
            " 8   Customer type_Member           1000 non-null   uint8         \n",
            " 9   Customer type_Normal           1000 non-null   uint8         \n",
            " 10  Gender_Female                  1000 non-null   uint8         \n",
            " 11  Gender_Male                    1000 non-null   uint8         \n",
            " 12  Product line_Electronic        1000 non-null   uint8         \n",
            " 13  Product line_Fashion           1000 non-null   uint8         \n",
            " 14  Product line_Food              1000 non-null   uint8         \n",
            " 15  Product line_Health & beauty   1000 non-null   uint8         \n",
            " 16  Product line_Home & lifestyle  1000 non-null   uint8         \n",
            " 17  Product line_Sports & travel   1000 non-null   uint8         \n",
            " 18  Payment_Cash                   1000 non-null   uint8         \n",
            " 19  Payment_Credit card            1000 non-null   uint8         \n",
            " 20  Payment_Ewallet                1000 non-null   uint8         \n",
            " 21  PurchaseTimeLabel_Afternoon    1000 non-null   uint8         \n",
            " 22  PurchaseTimeLabel_Morning      1000 non-null   uint8         \n",
            " 23  PurchaseTimeLabel_Night        1000 non-null   uint8         \n",
            " 24  Unit Price Binned              1000 non-null   category      \n",
            " 25  Unit Price_coded               1000 non-null   float64       \n",
            "dtypes: category(1), datetime64[ns](1), float64(4), int64(1), uint8(19)\n",
            "memory usage: 74.6+ KB\n"
          ]
        }
      ]
    },
    {
      "cell_type": "code",
      "source": [
        "# create a new DataFrame with only the relevant columns\n",
        "df_clustering2 = df[['City_Mandalay', 'City_Naypyitaw', 'City_Yangon', 'Product line_Electronic', 'Product line_Fashion', 'Product line_Food', 'Product line_Health & beauty', 'Product line_Home & lifestyle', 'Product line_Sports & travel', 'Total']]"
      ],
      "metadata": {
        "id": "owoxpP_-bz2T"
      },
      "execution_count": 48,
      "outputs": []
    },
    {
      "cell_type": "code",
      "source": [
        "# Create an empty list to store the WCSS values\n",
        "wcss = []\n",
        "\n",
        "# Define a range of K values to test\n",
        "k_values = range(1, 11)  # You can adjust the range as needed\n",
        "\n",
        "# Calculate WCSS for each K value\n",
        "for k in k_values:\n",
        "    kmeans = KMeans(n_clusters=k)\n",
        "    kmeans.fit(df_clustering2)\n",
        "    wcss.append(kmeans.inertia_)\n",
        "\n",
        "# Plot the WCSS values\n",
        "plt.figure(figsize=(8, 6))\n",
        "plt.plot(k_values, wcss, marker='o', linestyle='-')\n",
        "plt.title('Elbow Method for Optimal K')\n",
        "plt.xlabel('Number of Clusters (K)')\n",
        "plt.ylabel('WCSS')\n",
        "plt.grid(True)\n",
        "plt.show()"
      ],
      "metadata": {
        "colab": {
          "base_uri": "https://localhost:8080/",
          "height": 920
        },
        "id": "fLLYH4sMcqK_",
        "outputId": "03e23bd3-2d4a-4239-b9a6-cff6c25c39c0"
      },
      "execution_count": 49,
      "outputs": [
        {
          "output_type": "stream",
          "name": "stderr",
          "text": [
            "/usr/local/lib/python3.10/dist-packages/sklearn/cluster/_kmeans.py:870: FutureWarning: The default value of `n_init` will change from 10 to 'auto' in 1.4. Set the value of `n_init` explicitly to suppress the warning\n",
            "  warnings.warn(\n",
            "/usr/local/lib/python3.10/dist-packages/sklearn/cluster/_kmeans.py:870: FutureWarning: The default value of `n_init` will change from 10 to 'auto' in 1.4. Set the value of `n_init` explicitly to suppress the warning\n",
            "  warnings.warn(\n",
            "/usr/local/lib/python3.10/dist-packages/sklearn/cluster/_kmeans.py:870: FutureWarning: The default value of `n_init` will change from 10 to 'auto' in 1.4. Set the value of `n_init` explicitly to suppress the warning\n",
            "  warnings.warn(\n",
            "/usr/local/lib/python3.10/dist-packages/sklearn/cluster/_kmeans.py:870: FutureWarning: The default value of `n_init` will change from 10 to 'auto' in 1.4. Set the value of `n_init` explicitly to suppress the warning\n",
            "  warnings.warn(\n",
            "/usr/local/lib/python3.10/dist-packages/sklearn/cluster/_kmeans.py:870: FutureWarning: The default value of `n_init` will change from 10 to 'auto' in 1.4. Set the value of `n_init` explicitly to suppress the warning\n",
            "  warnings.warn(\n",
            "/usr/local/lib/python3.10/dist-packages/sklearn/cluster/_kmeans.py:870: FutureWarning: The default value of `n_init` will change from 10 to 'auto' in 1.4. Set the value of `n_init` explicitly to suppress the warning\n",
            "  warnings.warn(\n",
            "/usr/local/lib/python3.10/dist-packages/sklearn/cluster/_kmeans.py:870: FutureWarning: The default value of `n_init` will change from 10 to 'auto' in 1.4. Set the value of `n_init` explicitly to suppress the warning\n",
            "  warnings.warn(\n",
            "/usr/local/lib/python3.10/dist-packages/sklearn/cluster/_kmeans.py:870: FutureWarning: The default value of `n_init` will change from 10 to 'auto' in 1.4. Set the value of `n_init` explicitly to suppress the warning\n",
            "  warnings.warn(\n",
            "/usr/local/lib/python3.10/dist-packages/sklearn/cluster/_kmeans.py:870: FutureWarning: The default value of `n_init` will change from 10 to 'auto' in 1.4. Set the value of `n_init` explicitly to suppress the warning\n",
            "  warnings.warn(\n",
            "/usr/local/lib/python3.10/dist-packages/sklearn/cluster/_kmeans.py:870: FutureWarning: The default value of `n_init` will change from 10 to 'auto' in 1.4. Set the value of `n_init` explicitly to suppress the warning\n",
            "  warnings.warn(\n"
          ]
        },
        {
          "output_type": "display_data",
          "data": {
            "text/plain": [
              "<Figure size 800x600 with 1 Axes>"
            ],
            "image/png": "[encoded data removed]"
          },
          "metadata": {}
        }
      ]
    },
    {
      "cell_type": "code",
      "source": [
        "# initialize the K-Means model with 3 clusters\n",
        "kmeans = KMeans(n_clusters=3)\n",
        "\n",
        "# fit the model to the data\n",
        "kmeans.fit(df_clustering2)\n",
        "\n",
        "# predict the clusters for each data point\n",
        "predicted_clusters = kmeans.predict(df_clustering2)\n",
        "\n",
        "# add the predicted clusters as a new column to the DataFrame\n",
        "df_clustering2['Segment'] = predicted_clusters\n",
        "\n",
        "# group the data by segment and calculate the average total amount spent by each segment\n",
        "df_segment_sales = df_clustering2.groupby('Segment')['Total'].mean()\n",
        "print(df_segment_sales)"
      ],
      "metadata": {
        "colab": {
          "base_uri": "https://localhost:8080/"
        },
        "id": "xBfRHaoCc7oU",
        "outputId": "8afaee20-b984-4e01-d885-6a89acbbf047"
      },
      "execution_count": 50,
      "outputs": [
        {
          "output_type": "stream",
          "name": "stderr",
          "text": [
            "/usr/local/lib/python3.10/dist-packages/sklearn/cluster/_kmeans.py:870: FutureWarning: The default value of `n_init` will change from 10 to 'auto' in 1.4. Set the value of `n_init` explicitly to suppress the warning\n",
            "  warnings.warn(\n"
          ]
        },
        {
          "output_type": "stream",
          "name": "stdout",
          "text": [
            "Segment\n",
            "0    132.628777\n",
            "1    403.044149\n",
            "2    759.660586\n",
            "Name: Total, dtype: float64\n"
          ]
        },
        {
          "output_type": "stream",
          "name": "stderr",
          "text": [
            "<ipython-input-50-cb8d80e2370c>:11: SettingWithCopyWarning: \n",
            "A value is trying to be set on a copy of a slice from a DataFrame.\n",
            "Try using .loc[row_indexer,col_indexer] = value instead\n",
            "\n",
            "See the caveats in the documentation: https://pandas.pydata.org/pandas-docs/stable/user_guide/indexing.html#returning-a-view-versus-a-copy\n",
            "  df_clustering2['Segment'] = predicted_clusters\n"
          ]
        }
      ]
    },
    {
      "cell_type": "code",
      "source": [
        "# group the data by segment and customer type\n",
        "\n",
        "df_segment_type = df_clustering2.groupby(['Segment', 'City_Mandalay', 'City_Naypyitaw', 'City_Yangon']).size()\n",
        "print(df_segment_type)"
      ],
      "metadata": {
        "colab": {
          "base_uri": "https://localhost:8080/"
        },
        "id": "4u0O6SO2efph",
        "outputId": "a2a0dfc9-dd14-4bd0-d047-bd6ddb1d499a"
      },
      "execution_count": 51,
      "outputs": [
        {
          "output_type": "stream",
          "name": "stdout",
          "text": [
            "Segment  City_Mandalay  City_Naypyitaw  City_Yangon\n",
            "0        0              0               1              182\n",
            "                        1               0              162\n",
            "         1              0               0              175\n",
            "1        0              0               1              108\n",
            "                        1               0              103\n",
            "         1              0               0              101\n",
            "2        0              0               1               50\n",
            "                        1               0               63\n",
            "         1              0               0               56\n",
            "dtype: int64\n"
          ]
        }
      ]
    },
    {
      "cell_type": "code",
      "source": [
        "# group the data by segment and customer type\n",
        "\n",
        "df_segment_type = df_clustering2.groupby(['Segment', 'Product line_Electronic', 'Product line_Fashion', 'Product line_Food', 'Product line_Health & beauty', 'Product line_Home & lifestyle', 'Product line_Sports & travel']).size()\n",
        "print(df_segment_type)"
      ],
      "metadata": {
        "colab": {
          "base_uri": "https://localhost:8080/"
        },
        "id": "He-9w_oXdpol",
        "outputId": "077538d4-bde5-4e90-a5d1-0f6581af110b"
      },
      "execution_count": 52,
      "outputs": [
        {
          "output_type": "stream",
          "name": "stdout",
          "text": [
            "Segment  Product line_Electronic  Product line_Fashion  Product line_Food  Product line_Health & beauty  Product line_Home & lifestyle  Product line_Sports & travel\n",
            "0        0                        0                     0                  0                             0                              1                               82\n",
            "                                                                                                         1                              0                               83\n",
            "                                                                           1                             0                              0                               74\n",
            "                                                        1                  0                             0                              0                               90\n",
            "                                  1                     0                  0                             0                              0                               96\n",
            "         1                        0                     0                  0                             0                              0                               94\n",
            "1        0                        0                     0                  0                             0                              1                               55\n",
            "                                                                                                         1                              0                               47\n",
            "                                                                           1                             0                              0                               52\n",
            "                                                        1                  0                             0                              0                               59\n",
            "                                  1                     0                  0                             0                              0                               54\n",
            "         1                        0                     0                  0                             0                              0                               45\n",
            "2        0                        0                     0                  0                             0                              1                               29\n",
            "                                                                                                         1                              0                               30\n",
            "                                                                           1                             0                              0                               26\n",
            "                                                        1                  0                             0                              0                               25\n",
            "                                  1                     0                  0                             0                              0                               28\n",
            "         1                        0                     0                  0                             0                              0                               31\n",
            "dtype: int64\n"
          ]
        }
      ]
    },
    {
      "cell_type": "markdown",
      "source": [
        "# Predict Customer Ratings"
      ],
      "metadata": {
        "id": "kvpSuZLt_wdl"
      }
    },
    {
      "cell_type": "markdown",
      "source": [
        "## Using Regression models"
      ],
      "metadata": {
        "id": "EkgxGdw2IC_W"
      }
    },
    {
      "cell_type": "code",
      "source": [
        "# Create a copy of the df\n",
        "df_reg = df.copy()\n",
        "\n",
        "# Convert the 'DateTime' column to a numerical format\n",
        "df_reg['DateTime'] = df_reg['DateTime'].apply(lambda x: x.timestamp())\n",
        "\n",
        "# Round the 'Rating' column to the nearest integer\n",
        "df_reg['Rating'] = df_reg['Rating'].round().astype(int)"
      ],
      "metadata": {
        "id": "PjVBS385_3zt"
      },
      "execution_count": 53,
      "outputs": []
    },
    {
      "cell_type": "code",
      "source": [
        "X = df_reg.drop(columns=['Rating', 'Unit Price Binned'])\n",
        "y = df_reg['Rating']\n",
        "\n",
        "# Split the data into training and testing sets\n",
        "X_train, X_test, y_train, y_test = train_test_split(X, y, test_size=0.2, random_state=42)"
      ],
      "metadata": {
        "id": "uJJfeQLPA1ag"
      },
      "execution_count": 54,
      "outputs": []
    },
    {
      "cell_type": "markdown",
      "source": [
        "### Linear Regression"
      ],
      "metadata": {
        "id": "7YkeY_zHBIKb"
      }
    },
    {
      "cell_type": "code",
      "source": [
        "# Create a linear regression model\n",
        "model = LinearRegression()\n",
        "\n",
        "# Fit the model to the training data\n",
        "model.fit(X_train, y_train)\n",
        "\n",
        "y_pred = model.predict(X_test)\n",
        "\n",
        "# Calculate Mean Squared Error (MSE) and R-squared\n",
        "mse = mean_squared_error(y_test, y_pred)\n",
        "r2 = r2_score(y_test, y_pred)\n",
        "\n",
        "print(f\"Mean Squared Error: {mse}\")\n",
        "print(f\"R-squared: {r2}\")"
      ],
      "metadata": {
        "colab": {
          "base_uri": "https://localhost:8080/"
        },
        "id": "pjKHv3mVA-Hu",
        "outputId": "ba7534d9-f951-46a2-e522-5731c1c75581"
      },
      "execution_count": 55,
      "outputs": [
        {
          "output_type": "stream",
          "name": "stdout",
          "text": [
            "Mean Squared Error: 3.4540073601512145\n",
            "R-squared: -0.022084663628988865\n"
          ]
        }
      ]
    },
    {
      "cell_type": "markdown",
      "source": [
        "### Linear Regression with cross validation"
      ],
      "metadata": {
        "id": "iO0IZ7W3BLEr"
      }
    },
    {
      "cell_type": "code",
      "source": [
        "# Define cross-validation method to use\n",
        "cv = KFold(n_splits=10, random_state=1, shuffle=True)\n",
        "\n",
        "# Create the linear regression model\n",
        "model = LinearRegression()\n",
        "\n",
        "# Perform 10-fold cross validation\n",
        "linear_scores = cross_val_score(model, X, y, cv=cv, scoring='neg_root_mean_squared_error')\n",
        "print(\"Cross-validated R^2 scores:\", linear_scores)\n",
        "\n",
        "linear_predictions = cross_val_predict(model, X, y, cv=cv)\n",
        "print(\"Mean squared error: \", np.mean(np.absolute(linear_scores)))"
      ],
      "metadata": {
        "colab": {
          "base_uri": "https://localhost:8080/"
        },
        "id": "mCuSucqDJFtO",
        "outputId": "faae43c4-a222-4141-be1d-e223e0aab948"
      },
      "execution_count": 56,
      "outputs": [
        {
          "output_type": "stream",
          "name": "stdout",
          "text": [
            "Cross-validated R^2 scores: [-1.66366003 -1.92122703 -1.86097514 -1.79471862 -1.80762703 -1.85549259\n",
            " -1.84958404 -1.84027175 -1.84996768 -1.74074076]\n",
            "Mean squared error:  1.8184264663837557\n"
          ]
        }
      ]
    },
    {
      "cell_type": "markdown",
      "source": [
        "Both cases give negative R^2 vales, which means using regression models for predicting the rating is not appropriate. This could be due the less number of quanitative variables in the dataset. Hence it is better to descritize the Rating column and apply classification models to predit the classes."
      ],
      "metadata": {
        "id": "o_vutZXwAAAN"
      }
    },
    {
      "cell_type": "markdown",
      "source": [
        "## Using Classification models"
      ],
      "metadata": {
        "id": "rf_kCVCQIIlG"
      }
    },
    {
      "cell_type": "code",
      "source": [
        "# Create a copy of the df\n",
        "df_class = df.copy()\n",
        "\n",
        "# Convert the 'DateTime' column to a numerical format\n",
        "df_class['DateTime'] = df_class['DateTime'].apply(lambda x: x.timestamp())\n",
        "\n",
        "# Round the 'Rating' column to the nearest integer\n",
        "df_class['Rating'] = pd.cut(df_class['Rating'], bins=3, labels=[1, 2, 3])"
      ],
      "metadata": {
        "id": "Y7qWUSmhBWeo"
      },
      "execution_count": 57,
      "outputs": []
    },
    {
      "cell_type": "markdown",
      "source": [
        "Labels\n",
        "*   1: Low\n",
        "*   2: Medium\n",
        "*   3: High"
      ],
      "metadata": {
        "id": "b8vB3mfjHm87"
      }
    },
    {
      "cell_type": "code",
      "source": [
        "X = df_class.drop(columns=['Rating', 'Unit Price Binned'])\n",
        "y = df_class['Rating']\n",
        "\n",
        "# Split the data into training and testing sets\n",
        "X_train, X_test, y_train, y_test = train_test_split(X, y, test_size=0.2, random_state=42)"
      ],
      "metadata": {
        "id": "TvdeTPdCCANW"
      },
      "execution_count": 58,
      "outputs": []
    },
    {
      "cell_type": "markdown",
      "source": [
        "*   Precision = True Positives / (True Positives + False Positives)\n",
        "*   Recall = True Positives / (True Positives + False Negatives)\n",
        "*   F1-Score = 2 * (Precision * Recall) / (Precision + Recall)\n",
        "*   Support: Number of actual occurrences of class in the testing dataset"
      ],
      "metadata": {
        "id": "L30ey3YREFBO"
      }
    },
    {
      "cell_type": "markdown",
      "source": [
        "### Decision Tree"
      ],
      "metadata": {
        "id": "uFSrFxPJAtqz"
      }
    },
    {
      "cell_type": "code",
      "source": [
        "# Create a Decision Tree classifier\n",
        "dt_model = DecisionTreeClassifier()\n",
        "\n",
        "# Fit the model to the training data\n",
        "dt_model.fit(X_train, y_train)\n",
        "\n",
        "# Predict the ratings for the test data\n",
        "y_pred_dt = dt_model.predict(X_test)\n",
        "\n",
        "# Calculate the confusion matrix\n",
        "dt_cm = confusion_matrix(y_test, y_pred_dt)\n",
        "print('Confusion Matrix:\\n', dt_cm)\n",
        "print(\"\\n\")\n",
        "\n",
        "# Calculate precision, recall, and F1-score\n",
        "dt_report = classification_report(y_test, y_pred_dt)\n",
        "print('Classification Report:\\n', dt_report)"
      ],
      "metadata": {
        "colab": {
          "base_uri": "https://localhost:8080/"
        },
        "id": "kjB0WpEGGT6_",
        "outputId": "87a7a62c-0ee4-4512-9f78-b4bd71f04251"
      },
      "execution_count": 59,
      "outputs": [
        {
          "output_type": "stream",
          "name": "stdout",
          "text": [
            "Confusion Matrix:\n",
            " [[25 23 23]\n",
            " [22 24 19]\n",
            " [18 23 23]]\n",
            "\n",
            "\n",
            "Classification Report:\n",
            "               precision    recall  f1-score   support\n",
            "\n",
            "           1       0.38      0.35      0.37        71\n",
            "           2       0.34      0.37      0.36        65\n",
            "           3       0.35      0.36      0.36        64\n",
            "\n",
            "    accuracy                           0.36       200\n",
            "   macro avg       0.36      0.36      0.36       200\n",
            "weighted avg       0.36      0.36      0.36       200\n",
            "\n"
          ]
        }
      ]
    },
    {
      "cell_type": "markdown",
      "source": [
        "### Naive Bayes"
      ],
      "metadata": {
        "id": "LGEyUYuTAzOD"
      }
    },
    {
      "cell_type": "code",
      "source": [
        "# Create a Gaussian Naive Bayes classifier\n",
        "nb_model = MultinomialNB()\n",
        "\n",
        "# Fit the model to the training data\n",
        "nb_model.fit(X_train, y_train)\n",
        "\n",
        "# Predict the ratings for the test data\n",
        "y_pred_nb = nb_model.predict(X_test)\n",
        "\n",
        "# Calculate the confusion matrix\n",
        "nb_cm = confusion_matrix(y_test, y_pred_nb)\n",
        "print('Confusion Matrix:\\n', nb_cm)\n",
        "print(\"\\n\")\n",
        "\n",
        "# Calculate precision, recall, and F1-score\n",
        "nb_report = classification_report(y_test, y_pred_nb)\n",
        "print('Classification Report:\\n', nb_report)"
      ],
      "metadata": {
        "colab": {
          "base_uri": "https://localhost:8080/"
        },
        "id": "lLqY7ouQHS8-",
        "outputId": "b27b7bf8-a833-4cb2-dddd-4077259bdd98"
      },
      "execution_count": 60,
      "outputs": [
        {
          "output_type": "stream",
          "name": "stdout",
          "text": [
            "Confusion Matrix:\n",
            " [[28 40  3]\n",
            " [27 37  1]\n",
            " [31 32  1]]\n",
            "\n",
            "\n",
            "Classification Report:\n",
            "               precision    recall  f1-score   support\n",
            "\n",
            "           1       0.33      0.39      0.36        71\n",
            "           2       0.34      0.57      0.43        65\n",
            "           3       0.20      0.02      0.03        64\n",
            "\n",
            "    accuracy                           0.33       200\n",
            "   macro avg       0.29      0.33      0.27       200\n",
            "weighted avg       0.29      0.33      0.27       200\n",
            "\n"
          ]
        }
      ]
    },
    {
      "cell_type": "markdown",
      "source": [
        "### Random Forest"
      ],
      "metadata": {
        "id": "qwaBc74LA2AD"
      }
    },
    {
      "cell_type": "code",
      "source": [
        "# Create a Random Forest classifier\n",
        "rf_model = RandomForestClassifier()\n",
        "\n",
        "# Fit the model to the training data\n",
        "rf_model.fit(X_train, y_train)\n",
        "\n",
        "# Predict the ratings for the test data\n",
        "y_pred_rf = rf_model.predict(X_test)\n",
        "\n",
        "# Calculate the confusion matrix\n",
        "rf_cm = confusion_matrix(y_test, y_pred_rf)\n",
        "print('Confusion Matrix:\\n', rf_cm)\n",
        "print(\"\\n\")\n",
        "\n",
        "# Calculate precision, recall, and F1-score\n",
        "rf_report = classification_report(y_test, y_pred_rf)\n",
        "print('Classification Report:\\n', rf_report)"
      ],
      "metadata": {
        "colab": {
          "base_uri": "https://localhost:8080/"
        },
        "id": "swQTP5RpCIK9",
        "outputId": "9ee576f6-b967-4deb-b30d-a5befee50be9"
      },
      "execution_count": 61,
      "outputs": [
        {
          "output_type": "stream",
          "name": "stdout",
          "text": [
            "Confusion Matrix:\n",
            " [[20 31 20]\n",
            " [24 21 20]\n",
            " [24 27 13]]\n",
            "\n",
            "\n",
            "Classification Report:\n",
            "               precision    recall  f1-score   support\n",
            "\n",
            "           1       0.29      0.28      0.29        71\n",
            "           2       0.27      0.32      0.29        65\n",
            "           3       0.25      0.20      0.22        64\n",
            "\n",
            "    accuracy                           0.27       200\n",
            "   macro avg       0.27      0.27      0.27       200\n",
            "weighted avg       0.27      0.27      0.27       200\n",
            "\n"
          ]
        }
      ]
    },
    {
      "cell_type": "markdown",
      "source": [
        "## Comparison"
      ],
      "metadata": {
        "id": "WrCywvfcESx7"
      }
    },
    {
      "cell_type": "code",
      "source": [
        "eval_data = [\n",
        "    [\"Metric\", \"Decision Tree\", \"Naive Bayes\", \"Random Forest\"],\n",
        "    [\"Accuracy\",\n",
        "     accuracy_score(y_test, y_pred_dt),\n",
        "     accuracy_score(y_test, y_pred_nb),\n",
        "     accuracy_score(y_test, y_pred_rf)],\n",
        "    [\"Precision\",\n",
        "     precision_score(y_test, y_pred_dt, average='weighted'),\n",
        "     precision_score(y_test, y_pred_nb, average='weighted'),\n",
        "     precision_score(y_test, y_pred_rf, average='weighted')],\n",
        "    [\"Recall\",\n",
        "     recall_score(y_test, y_pred_dt, average='weighted'),\n",
        "     recall_score(y_test, y_pred_nb, average='weighted'),\n",
        "     recall_score(y_test, y_pred_rf, average='weighted')],\n",
        "    [\"F1 Score\",\n",
        "     f1_score(y_test, y_pred_dt, average='weighted'),\n",
        "     f1_score(y_test, y_pred_nb, average='weighted'),\n",
        "     f1_score(y_test, y_pred_rf, average='weighted')]\n",
        "]\n",
        "\n",
        "rating_table = tabulate(eval_data, headers=\"firstrow\", tablefmt=\"fancy_grid\")\n",
        "print(rating_table)"
      ],
      "metadata": {
        "colab": {
          "base_uri": "https://localhost:8080/"
        },
        "id": "arY5hhy9DRaE",
        "outputId": "140548f4-7559-4ede-90a3-ae0e13ec1589"
      },
      "execution_count": 62,
      "outputs": [
        {
          "output_type": "stream",
          "name": "stdout",
          "text": [
            "╒═══════════╤═════════════════╤═══════════════╤═════════════════╕\n",
            "│ Metric    │   Decision Tree │   Naive Bayes │   Random Forest │\n",
            "╞═══════════╪═════════════════╪═══════════════╪═════════════════╡\n",
            "│ Accuracy  │        0.36     │      0.33     │        0.27     │\n",
            "├───────────┼─────────────────┼───────────────┼─────────────────┤\n",
            "│ Precision │        0.361198 │      0.289902 │        0.269295 │\n",
            "├───────────┼─────────────────┼───────────────┼─────────────────┤\n",
            "│ Recall    │        0.36     │      0.33     │        0.27     │\n",
            "├───────────┼─────────────────┼───────────────┼─────────────────┤\n",
            "│ F1 Score  │        0.360179 │      0.274118 │        0.268061 │\n",
            "╘═══════════╧═════════════════╧═══════════════╧═════════════════╛\n"
          ]
        }
      ]
    },
    {
      "cell_type": "markdown",
      "source": [
        "## Plotting average ratings of different product lines"
      ],
      "metadata": {
        "id": "0swClSJAOQU2"
      }
    },
    {
      "cell_type": "code",
      "source": [
        "product_rating = data.groupby(['Product line'])['Rating'].mean()\n",
        "\n",
        "# Plot the graph\n",
        "product_rating.plot(kind='bar')\n",
        "plt.xlabel('Product line')\n",
        "plt.ylabel('Rating')\n",
        "plt.title('Average Rating by Customer type and Gender')\n",
        "plt.show()"
      ],
      "metadata": {
        "colab": {
          "base_uri": "https://localhost:8080/",
          "height": 635
        },
        "id": "JNIBOhoE7AoS",
        "outputId": "ef3e6690-d6ce-4e3e-d238-e5a850a0b5df"
      },
      "execution_count": 63,
      "outputs": [
        {
          "output_type": "display_data",
          "data": {
            "text/plain": [
              "<Figure size 640x480 with 1 Axes>"
            ],
            "image/png": "[encoded data removed]"
          },
          "metadata": {}
        }
      ]
    },
    {
      "cell_type": "markdown",
      "source": [
        "## Plotting average ratings at each branch by each gender"
      ],
      "metadata": {
        "id": "ENWLfiwVOn3d"
      }
    },
    {
      "cell_type": "code",
      "source": [
        "branch_gender_rating = data.groupby(['Branch', 'Gender'])['Rating'].mean().unstack()\n",
        "\n",
        "# Plot the graph\n",
        "branch_gender_rating.plot(kind='bar')\n",
        "plt.xlabel('Branch')\n",
        "plt.ylabel('Rating')\n",
        "plt.title('Average Rating by Branch and Gender')\n",
        "plt.legend(title='Gender', loc='upper right')\n",
        "plt.show()"
      ],
      "metadata": {
        "colab": {
          "base_uri": "https://localhost:8080/",
          "height": 476
        },
        "id": "KpafZwk4PbfQ",
        "outputId": "af87c2d0-15b1-473f-e56b-51825e5873a6"
      },
      "execution_count": 64,
      "outputs": [
        {
          "output_type": "display_data",
          "data": {
            "text/plain": [
              "<Figure size 640x480 with 1 Axes>"
            ],
            "image/png": "[encoded data removed]"
          },
          "metadata": {}
        }
      ]
    },
    {
      "cell_type": "markdown",
      "source": [
        "## Plotting average ratings at each branch by each customer type"
      ],
      "metadata": {
        "id": "0jrpM0gwOpEX"
      }
    },
    {
      "cell_type": "code",
      "source": [
        "customer_gender_rating = data.groupby(['Customer type', 'Gender'])['Rating'].mean().unstack()\n",
        "\n",
        "# Plot the graph\n",
        "customer_gender_rating.plot(kind='bar')\n",
        "plt.xlabel('Customer type')\n",
        "plt.ylabel('Rating')\n",
        "plt.title('Average Rating by Customer type and Gender')\n",
        "plt.legend(title='Gender', loc='upper right')\n",
        "plt.show()"
      ],
      "metadata": {
        "colab": {
          "base_uri": "https://localhost:8080/",
          "height": 528
        },
        "id": "jsl-Wwsv6gdb",
        "outputId": "3b0c9f10-6ded-4628-b45d-37ceaa34e25f"
      },
      "execution_count": 65,
      "outputs": [
        {
          "output_type": "display_data",
          "data": {
            "text/plain": [
              "<Figure size 640x480 with 1 Axes>"
            ],
            "image/png": "[encoded data removed]"
          },
          "metadata": {}
        }
      ]
    },
    {
      "cell_type": "markdown",
      "source": [
        "# Predict Customer Type"
      ],
      "metadata": {
        "id": "iOvKdogSaMq-"
      }
    },
    {
      "cell_type": "code",
      "source": [
        "# Encode the Unit Price Binned column\n",
        "\n",
        "# Fit the encoder to the `Unit Price Binned` column\n",
        "encoder.fit(df['Unit Price Binned'])\n",
        "\n",
        "# Transform the `Unit Price Binned` column to numerical values\n",
        "df['Unit Price Binned'] = encoder.transform(df['Unit Price Binned'])"
      ],
      "metadata": {
        "id": "6HcqpEmgaP6V"
      },
      "execution_count": 66,
      "outputs": []
    },
    {
      "cell_type": "markdown",
      "source": [
        "## Using Logistic Regression Model"
      ],
      "metadata": {
        "id": "cjBYwDD8WohW"
      }
    },
    {
      "cell_type": "code",
      "source": [
        "# Split the data into train and test sets\n",
        "X = df[['Quantity', 'Total', 'Rating', 'City_Mandalay', 'City_Naypyitaw', 'City_Yangon',\n",
        "        'Gender_Female', 'Gender_Male', 'Product line_Electronic', 'Product line_Fashion',\n",
        "        'Product line_Food', 'Product line_Health & beauty', 'Product line_Home & lifestyle',\n",
        "        'Product line_Sports & travel', 'Payment_Cash', 'Payment_Credit card', 'Payment_Ewallet',\n",
        "        'PurchaseTimeLabel_Afternoon', 'PurchaseTimeLabel_Morning', 'PurchaseTimeLabel_Night',\n",
        "        'Unit Price Binned', 'Unit Price_coded']]\n",
        "\n",
        "y = df['CustomerType']\n",
        "\n",
        "X_train, X_test, y_train, y_test = train_test_split(X, y, test_size=0.2, random_state=42)\n",
        "\n",
        "# Create a logistic regression model\n",
        "logistic_model = LogisticRegression()\n",
        "\n",
        "# Train the model on the training data\n",
        "logistic_model.fit(X_train, y_train)\n",
        "\n",
        "# Make predictions on the test data\n",
        "y_pred_logistic = logistic_model.predict(X_test)\n",
        "\n",
        "# Evaluate the model\n",
        "accuracy_logistic = accuracy_score(y_test, y_pred_logistic)\n",
        "precision_logistic = precision_score(y_test, y_pred_logistic)\n",
        "recall_logistic = recall_score(y_test, y_pred_logistic)\n",
        "f1_logistic = f1_score(y_test, y_pred_logistic)\n",
        "\n",
        "# Printing the accuracy\n",
        "print(\"Accuracy - \", accuracy_logistic);"
      ],
      "metadata": {
        "colab": {
          "base_uri": "https://localhost:8080/"
        },
        "id": "f4XExxG7a9S6",
        "outputId": "d4ce91fc-fdff-4121-eb71-355df3a466cc"
      },
      "execution_count": 67,
      "outputs": [
        {
          "output_type": "stream",
          "name": "stdout",
          "text": [
            "Accuracy -  0.525\n"
          ]
        }
      ]
    },
    {
      "cell_type": "markdown",
      "source": [
        "## Using Random Forest Classifier"
      ],
      "metadata": {
        "id": "BwhChO5oYabr"
      }
    },
    {
      "cell_type": "code",
      "source": [
        "# Create a Random Forest classifier\n",
        "rf_model = RandomForestClassifier(random_state=42)\n",
        "\n",
        "# Train the model on the training data\n",
        "rf_model.fit(X_train, y_train)\n",
        "\n",
        "# Make predictions on the test data\n",
        "y_pred_rf = rf_model.predict(X_test)\n",
        "\n",
        "# Evaluate the model\n",
        "accuracy_rf = accuracy_score(y_test, y_pred_rf)\n",
        "precision_rf = precision_score(y_test, y_pred_rf)\n",
        "recall_rf = recall_score(y_test, y_pred_rf)\n",
        "f1_rf = f1_score(y_test, y_pred_rf)\n",
        "\n",
        "# Printing the accuracy\n",
        "print(\"Accuracy:\", accuracy_rf)"
      ],
      "metadata": {
        "colab": {
          "base_uri": "https://localhost:8080/"
        },
        "id": "hyuMw0vAeirU",
        "outputId": "8d93bee5-0a8f-4275-d156-48a257b21ecd"
      },
      "execution_count": 68,
      "outputs": [
        {
          "output_type": "stream",
          "name": "stdout",
          "text": [
            "Accuracy: 0.505\n"
          ]
        }
      ]
    },
    {
      "cell_type": "markdown",
      "source": [
        "## Using Decision Tree"
      ],
      "metadata": {
        "id": "DwAbsR1zYx35"
      }
    },
    {
      "cell_type": "code",
      "source": [
        "# Create a Decision Tree classifier\n",
        "dt_model = DecisionTreeClassifier(random_state=42)\n",
        "\n",
        "# Train the model on the training data\n",
        "dt_model.fit(X_train, y_train)\n",
        "\n",
        "# Make predictions on the test data\n",
        "y_pred_dt = dt_model.predict(X_test)\n",
        "\n",
        "# Evaluate the model's accuracy\n",
        "accuracy_dt = accuracy_score(y_test, y_pred_dt)\n",
        "precision_dt = precision_score(y_test, y_pred_dt)\n",
        "recall_dt = recall_score(y_test, y_pred_dt)\n",
        "f1_dt = f1_score(y_test, y_pred_dt)\n",
        "\n",
        "# Printing the accuracy\n",
        "print(\"Accuracy:\", accuracy_dt)"
      ],
      "metadata": {
        "colab": {
          "base_uri": "https://localhost:8080/"
        },
        "id": "3y1SUqTkexUo",
        "outputId": "8a187fc0-e9b3-4594-86c1-9b443db7ad91"
      },
      "execution_count": 69,
      "outputs": [
        {
          "output_type": "stream",
          "name": "stdout",
          "text": [
            "Accuracy: 0.49\n"
          ]
        }
      ]
    },
    {
      "cell_type": "markdown",
      "source": [
        "## Comparing Performances"
      ],
      "metadata": {
        "id": "0Ex2EKV2Z02-"
      }
    },
    {
      "cell_type": "code",
      "source": [
        "data = [\n",
        "    [\"Metric\", \"Logistic Regression\", \"Random Forest\", \"Decision Tree\"],\n",
        "    [\"Accuracy\", accuracy_logistic, accuracy_rf, accuracy_dt],\n",
        "    [\"Precision\", precision_logistic, precision_rf, precision_dt],\n",
        "    [\"Recall\", recall_logistic, recall_rf, recall_dt],\n",
        "    [\"F1 Score\", f1_logistic, f1_rf, f1_dt]\n",
        "]\n",
        "\n",
        "table = tabulate(data, headers=\"firstrow\", tablefmt=\"fancy_grid\")\n",
        "print(table)"
      ],
      "metadata": {
        "colab": {
          "base_uri": "https://localhost:8080/"
        },
        "id": "A-laK-uNZ4ZN",
        "outputId": "bcc91433-1f19-4fde-a064-8242b58d2e5f"
      },
      "execution_count": 70,
      "outputs": [
        {
          "output_type": "stream",
          "name": "stdout",
          "text": [
            "╒═══════════╤═══════════════════════╤═════════════════╤═════════════════╕\n",
            "│ Metric    │   Logistic Regression │   Random Forest │   Decision Tree │\n",
            "╞═══════════╪═══════════════════════╪═════════════════╪═════════════════╡\n",
            "│ Accuracy  │              0.525    │        0.505    │        0.49     │\n",
            "├───────────┼───────────────────────┼─────────────────┼─────────────────┤\n",
            "│ Precision │              0.538462 │        0.521277 │        0.504673 │\n",
            "├───────────┼───────────────────────┼─────────────────┼─────────────────┤\n",
            "│ Recall    │              0.543689 │        0.475728 │        0.524272 │\n",
            "├───────────┼───────────────────────┼─────────────────┼─────────────────┤\n",
            "│ F1 Score  │              0.541063 │        0.497462 │        0.514286 │\n",
            "╘═══════════╧═══════════════════════╧═════════════════╧═════════════════╛\n"
          ]
        }
      ]
    }
  ]
}